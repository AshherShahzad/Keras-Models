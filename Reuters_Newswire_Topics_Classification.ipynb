{
  "nbformat": 4,
  "nbformat_minor": 0,
  "metadata": {
    "colab": {
      "name": "Reuters_Newswire_Topics_Classification.ipynb",
      "version": "0.3.2",
      "provenance": [],
      "collapsed_sections": []
    },
    "kernelspec": {
      "name": "python3",
      "display_name": "Python 3"
    }
  },
  "cells": [
    {
      "metadata": {
        "id": "WoFtJA86jks8",
        "colab_type": "text"
      },
      "cell_type": "markdown",
      "source": [
        "# **Newswire Classification:**\n",
        "\n",
        "---\n",
        "\n",
        "\n",
        "###   ** Predicting which Data Point (Newswires) belongs to which Topics (Category).**\n",
        "\n",
        "###   ** Single Labeled Classification Example i.e. Any random newsfeed can be predicted to political news category or entertainment category or any of the remaining 44 categories but can not be assigned to two categories at a time.**\n",
        "###   ** Data Set is not distributed equally into all categories but each category has atleast 10 examples in the training set.**\n",
        " \n",
        "\n",
        "\n",
        "\n",
        "\n",
        "\n",
        "\n",
        "\n"
      ]
    },
    {
      "metadata": {
        "id": "voH8DnnIpsAO",
        "colab_type": "text"
      },
      "cell_type": "markdown",
      "source": [
        "# **Loading  Reuters Data Set**"
      ]
    },
    {
      "metadata": {
        "id": "0YZoakb_iJSD",
        "colab_type": "code",
        "colab": {
          "base_uri": "https://localhost:8080/",
          "height": 50
        },
        "outputId": "756f1bca-1576-476f-be4d-54248a7dfdd7"
      },
      "cell_type": "code",
      "source": [
        "from keras.datasets import reuters\n",
        "\n",
        "(train_data, train_labels), (test_data, test_labels) = reuters.load_data(num_words = 10000)\n",
        "\n",
        "\n",
        "# like IMDB, only the most 10000 most occuring words in the data will be considered model input"
      ],
      "execution_count": 2,
      "outputs": [
        {
          "output_type": "stream",
          "text": [
            "Downloading data from https://s3.amazonaws.com/text-datasets/reuters.npz\n",
            "2113536/2110848 [==============================] - 1s 0us/step\n"
          ],
          "name": "stdout"
        }
      ]
    },
    {
      "metadata": {
        "id": "Y1MrhVhU9nGj",
        "colab_type": "code",
        "colab": {}
      },
      "cell_type": "code",
      "source": [
        ""
      ],
      "execution_count": 0,
      "outputs": []
    },
    {
      "metadata": {
        "id": "7OL2EirQrK8P",
        "colab_type": "text"
      },
      "cell_type": "markdown",
      "source": [
        "### **Checking the length of 10000 words distributons into Train and Test data**\n",
        "\n",
        "\n"
      ]
    },
    {
      "metadata": {
        "id": "Goeqo5Vhqvj3",
        "colab_type": "code",
        "colab": {
          "base_uri": "https://localhost:8080/",
          "height": 34
        },
        "outputId": "439494d0-f525-4470-81e4-7d0a6932da11"
      },
      "cell_type": "code",
      "source": [
        "len(train_data)"
      ],
      "execution_count": 4,
      "outputs": [
        {
          "output_type": "execute_result",
          "data": {
            "text/plain": [
              "8982"
            ]
          },
          "metadata": {
            "tags": []
          },
          "execution_count": 4
        }
      ]
    },
    {
      "metadata": {
        "id": "yT3KxRCMrqks",
        "colab_type": "code",
        "colab": {
          "base_uri": "https://localhost:8080/",
          "height": 34
        },
        "outputId": "4cef3386-da12-451e-ab13-b0cd80a9d273"
      },
      "cell_type": "code",
      "source": [
        "len(test_data)"
      ],
      "execution_count": 5,
      "outputs": [
        {
          "output_type": "execute_result",
          "data": {
            "text/plain": [
              "2246"
            ]
          },
          "metadata": {
            "tags": []
          },
          "execution_count": 5
        }
      ]
    },
    {
      "metadata": {
        "id": "cwp7ykSfr9Fv",
        "colab_type": "text"
      },
      "cell_type": "markdown",
      "source": [
        "### **Checking the values of Train data (just a Sample)**"
      ]
    },
    {
      "metadata": {
        "id": "46pkuMLzsDtB",
        "colab_type": "code",
        "colab": {
          "base_uri": "https://localhost:8080/",
          "height": 538
        },
        "outputId": "31f2b54e-9da5-4bc7-a990-545d6b933845"
      },
      "cell_type": "code",
      "source": [
        "train_data[10]"
      ],
      "execution_count": 8,
      "outputs": [
        {
          "output_type": "execute_result",
          "data": {
            "text/plain": [
              "[1,\n",
              " 245,\n",
              " 273,\n",
              " 207,\n",
              " 156,\n",
              " 53,\n",
              " 74,\n",
              " 160,\n",
              " 26,\n",
              " 14,\n",
              " 46,\n",
              " 296,\n",
              " 26,\n",
              " 39,\n",
              " 74,\n",
              " 2979,\n",
              " 3554,\n",
              " 14,\n",
              " 46,\n",
              " 4689,\n",
              " 4329,\n",
              " 86,\n",
              " 61,\n",
              " 3499,\n",
              " 4795,\n",
              " 14,\n",
              " 61,\n",
              " 451,\n",
              " 4329,\n",
              " 17,\n",
              " 12]"
            ]
          },
          "metadata": {
            "tags": []
          },
          "execution_count": 8
        }
      ]
    },
    {
      "metadata": {
        "id": "I93Ws_NxsDOI",
        "colab_type": "text"
      },
      "cell_type": "markdown",
      "source": [
        "### ** Decoding the previous checked sample**"
      ]
    },
    {
      "metadata": {
        "id": "1ilSeczss86i",
        "colab_type": "code",
        "colab": {
          "base_uri": "https://localhost:8080/",
          "height": 54
        },
        "outputId": "634ee434-b0aa-4c30-8a29-c99e129d8d77"
      },
      "cell_type": "code",
      "source": [
        "word_index = reuters.get_word_index()\n",
        "reverse_word_index = dict([(value, key) for (key, value) in word_index.items()])\n",
        "decoded_newswire = ' '.join([reverse_word_index.get(i-3,'?') for i in train_data[10]])\n",
        "decoded_newswire # one complete newswire at train_data index 0\n",
        "\n",
        "# indices are subtracted by three\n",
        "# because 0,1,2 are reserved indices for padding, start of sequence and unknown"
      ],
      "execution_count": 74,
      "outputs": [
        {
          "output_type": "execute_result",
          "data": {
            "text/plain": [
              "'? period ended december 31 shr profit 11 cts vs loss 24 cts net profit 224 271 vs loss 511 349 revs 7 258 688 vs 7 200 349 reuter 3'"
            ]
          },
          "metadata": {
            "tags": []
          },
          "execution_count": 74
        }
      ]
    },
    {
      "metadata": {
        "id": "t1vgUXJa5bpV",
        "colab_type": "code",
        "colab": {
          "base_uri": "https://localhost:8080/",
          "height": 34
        },
        "outputId": "20d9ec47-f9a9-49a1-daf4-7fc0d8bedb6f"
      },
      "cell_type": "code",
      "source": [
        "reverse_word_index[242]  # word occuring at index i - 3 = 245 - 3 = 242 \n",
        "                          # second word in the above newswire, found by its index number"
      ],
      "execution_count": 75,
      "outputs": [
        {
          "output_type": "execute_result",
          "data": {
            "text/plain": [
              "'period'"
            ]
          },
          "metadata": {
            "tags": []
          },
          "execution_count": 75
        }
      ]
    },
    {
      "metadata": {
        "id": "F1KL_h0m1_Zv",
        "colab_type": "code",
        "colab": {
          "base_uri": "https://localhost:8080/",
          "height": 34
        },
        "outputId": "00ec387a-c665-4471-a391-09c79367b879"
      },
      "cell_type": "code",
      "source": [
        "# to check WORDS occuring at a series of indices\n",
        "# in an orderly manner\n",
        "\n",
        "d = reverse_word_index \n",
        "\n",
        "keys = (1,2,3)\n",
        "d1 = {k: d[k] for k in keys}\n",
        "d1"
      ],
      "execution_count": 105,
      "outputs": [
        {
          "output_type": "execute_result",
          "data": {
            "text/plain": [
              "{1: 'the', 2: 'of', 3: 'to'}"
            ]
          },
          "metadata": {
            "tags": []
          },
          "execution_count": 105
        }
      ]
    },
    {
      "metadata": {
        "id": "79_wRDh_3yiw",
        "colab_type": "text"
      },
      "cell_type": "markdown",
      "source": [
        "# **Preparing the data**"
      ]
    },
    {
      "metadata": {
        "id": "SF4fkCGt__gY",
        "colab_type": "text"
      },
      "cell_type": "markdown",
      "source": [
        "### ** Encoding the data**"
      ]
    },
    {
      "metadata": {
        "id": "UqYD-cwgzjmu",
        "colab_type": "code",
        "colab": {}
      },
      "cell_type": "code",
      "source": [
        "import numpy as np"
      ],
      "execution_count": 0,
      "outputs": []
    },
    {
      "metadata": {
        "id": "-RpBjYEoBE12",
        "colab_type": "code",
        "colab": {}
      },
      "cell_type": "code",
      "source": [
        "def vectorize_sequences(sequences, dimension = 10000):\n",
        "  results = np.zeros((len(sequences), dimension))\n",
        "  for i, sequence in enumerate(sequences):\n",
        "    results[i, sequence] = 1\n",
        "  return results"
      ],
      "execution_count": 0,
      "outputs": []
    },
    {
      "metadata": {
        "id": "vRL9khPqBo5y",
        "colab_type": "code",
        "colab": {
          "base_uri": "https://localhost:8080/",
          "height": 134
        },
        "outputId": "fc090c71-f23c-41c7-adca-7de7698d434b"
      },
      "cell_type": "code",
      "source": [
        "# Our vectorize training data\n",
        "x_train = vectorize_sequences(train_data)\n",
        "x_train"
      ],
      "execution_count": 117,
      "outputs": [
        {
          "output_type": "execute_result",
          "data": {
            "text/plain": [
              "array([[0., 1., 1., ..., 0., 0., 0.],\n",
              "       [0., 1., 1., ..., 0., 0., 0.],\n",
              "       [0., 1., 1., ..., 0., 0., 0.],\n",
              "       ...,\n",
              "       [0., 1., 1., ..., 0., 0., 0.],\n",
              "       [0., 1., 1., ..., 0., 0., 0.],\n",
              "       [0., 1., 1., ..., 0., 0., 0.]])"
            ]
          },
          "metadata": {
            "tags": []
          },
          "execution_count": 117
        }
      ]
    },
    {
      "metadata": {
        "id": "q-6BbJSLCw2m",
        "colab_type": "code",
        "colab": {
          "base_uri": "https://localhost:8080/",
          "height": 134
        },
        "outputId": "ba82b35e-f775-4d48-ee65-ad177cd6072e"
      },
      "cell_type": "code",
      "source": [
        "# Our vectorize test data\n",
        "x_test = vectorize_sequences(test_data)\n",
        "x_test"
      ],
      "execution_count": 119,
      "outputs": [
        {
          "output_type": "execute_result",
          "data": {
            "text/plain": [
              "array([[0., 1., 1., ..., 0., 0., 0.],\n",
              "       [0., 1., 1., ..., 0., 0., 0.],\n",
              "       [0., 1., 1., ..., 0., 0., 0.],\n",
              "       ...,\n",
              "       [0., 1., 0., ..., 0., 0., 0.],\n",
              "       [0., 1., 1., ..., 0., 0., 0.],\n",
              "       [0., 1., 1., ..., 0., 0., 0.]])"
            ]
          },
          "metadata": {
            "tags": []
          },
          "execution_count": 119
        }
      ]
    },
    {
      "metadata": {
        "id": "PwNWGL-hLjnb",
        "colab_type": "text"
      },
      "cell_type": "markdown",
      "source": [
        "### **One Hot Encoding the labels (Using Keras)**"
      ]
    },
    {
      "metadata": {
        "id": "1Amp5JMwLf02",
        "colab_type": "code",
        "colab": {}
      },
      "cell_type": "code",
      "source": [
        "from keras.utils.np_utils import to_categorical\n",
        "\n",
        "# One will be placed at a label index"
      ],
      "execution_count": 0,
      "outputs": []
    },
    {
      "metadata": {
        "id": "_sQkWt6nMFUC",
        "colab_type": "code",
        "colab": {
          "base_uri": "https://localhost:8080/",
          "height": 134
        },
        "outputId": "f2125b86-dc0e-4628-df44-bf761241528a"
      },
      "cell_type": "code",
      "source": [
        "one_hot_train_labels = to_categorical(train_labels)\n",
        "one_hot_train_labels\n"
      ],
      "execution_count": 123,
      "outputs": [
        {
          "output_type": "execute_result",
          "data": {
            "text/plain": [
              "array([[0., 0., 0., ..., 0., 0., 0.],\n",
              "       [0., 0., 0., ..., 0., 0., 0.],\n",
              "       [0., 0., 0., ..., 0., 0., 0.],\n",
              "       ...,\n",
              "       [0., 0., 0., ..., 0., 0., 0.],\n",
              "       [0., 0., 0., ..., 0., 0., 0.],\n",
              "       [0., 0., 0., ..., 0., 0., 0.]], dtype=float32)"
            ]
          },
          "metadata": {
            "tags": []
          },
          "execution_count": 123
        }
      ]
    },
    {
      "metadata": {
        "id": "sUpHXFLOMpxt",
        "colab_type": "code",
        "colab": {
          "base_uri": "https://localhost:8080/",
          "height": 134
        },
        "outputId": "019c1c8c-5e0e-42ad-eceb-feba4ed9161a"
      },
      "cell_type": "code",
      "source": [
        "one_hot_test_labels = to_categorical(test_labels)\n",
        "one_hot_test_labels"
      ],
      "execution_count": 124,
      "outputs": [
        {
          "output_type": "execute_result",
          "data": {
            "text/plain": [
              "array([[0., 0., 0., ..., 0., 0., 0.],\n",
              "       [0., 0., 0., ..., 0., 0., 0.],\n",
              "       [0., 1., 0., ..., 0., 0., 0.],\n",
              "       ...,\n",
              "       [0., 0., 0., ..., 0., 0., 0.],\n",
              "       [0., 0., 0., ..., 0., 0., 0.],\n",
              "       [0., 0., 0., ..., 0., 0., 0.]], dtype=float32)"
            ]
          },
          "metadata": {
            "tags": []
          },
          "execution_count": 124
        }
      ]
    },
    {
      "metadata": {
        "id": "M7e4motVNZZs",
        "colab_type": "text"
      },
      "cell_type": "markdown",
      "source": [
        "# **Building the Network**\n",
        "\n",
        "---\n",
        "\n",
        "\n",
        "\n",
        "###*   **Don't use smaller layers before the larger layers i.e. this will leads to make each layer as  \"Information Bottleneck\" **\n",
        "###*   **I am using Dense layers aka Fully Connected Layers **\n",
        "\n"
      ]
    },
    {
      "metadata": {
        "id": "5qKy_lelM8Ab",
        "colab_type": "code",
        "colab": {}
      },
      "cell_type": "code",
      "source": [
        "from keras import models\n",
        "from keras import layers"
      ],
      "execution_count": 0,
      "outputs": []
    },
    {
      "metadata": {
        "id": "QD9h3cSqRmjJ",
        "colab_type": "text"
      },
      "cell_type": "markdown",
      "source": [
        "### **Defining the model **"
      ]
    },
    {
      "metadata": {
        "id": "THlLfImxOjYc",
        "colab_type": "code",
        "colab": {}
      },
      "cell_type": "code",
      "source": [
        "model = models.Sequential()\n",
        "model.add(layers.Dense(64, activation = 'relu', input_shape = (10000,)))\n",
        "model.add(layers.Dense(64, activation = 'relu'))\n",
        "model.add(layers.Dense(46, activation = 'softmax'))"
      ],
      "execution_count": 0,
      "outputs": []
    },
    {
      "metadata": {
        "id": "2NdY_jQDRy0w",
        "colab_type": "text"
      },
      "cell_type": "markdown",
      "source": [
        "### **Compiling the model**"
      ]
    },
    {
      "metadata": {
        "id": "7A69Y5QPRMAy",
        "colab_type": "code",
        "colab": {}
      },
      "cell_type": "code",
      "source": [
        "model.compile(optimizer = 'rmsprop',\n",
        "             loss = 'categorical_crossentropy',\n",
        "             metrics = ['accuracy'])"
      ],
      "execution_count": 0,
      "outputs": []
    },
    {
      "metadata": {
        "id": "UjmcF5BJSX9z",
        "colab_type": "text"
      },
      "cell_type": "markdown",
      "source": [
        "### **Defining Validation Set**"
      ]
    },
    {
      "metadata": {
        "id": "ZyVZn28rSbhF",
        "colab_type": "code",
        "colab": {}
      },
      "cell_type": "code",
      "source": [
        "x_val = x_train[:1000] # 1000 samples as validation set (from index 0 to 999)\n",
        "partial_x_train = x_train[1000:]\n",
        "\n",
        "y_val = one_hot_train_labels[:1000]\n",
        "partial_y_train = one_hot_train_labels[1000:]"
      ],
      "execution_count": 0,
      "outputs": []
    },
    {
      "metadata": {
        "id": "slc-Pe6tTrF3",
        "colab_type": "text"
      },
      "cell_type": "markdown",
      "source": [
        "# **Training the Model**"
      ]
    },
    {
      "metadata": {
        "id": "xgabOu12TwuD",
        "colab_type": "code",
        "colab": {
          "base_uri": "https://localhost:8080/",
          "height": 776
        },
        "outputId": "b61d7e01-c97b-40c6-871b-4975b5e76a51"
      },
      "cell_type": "code",
      "source": [
        "history = model.fit(partial_x_train,\n",
        "                   partial_y_train,\n",
        "                   epochs = 20,\n",
        "                   batch_size = 512,\n",
        "                   validation_data = (x_val, y_val))"
      ],
      "execution_count": 130,
      "outputs": [
        {
          "output_type": "stream",
          "text": [
            "WARNING:tensorflow:From /usr/local/lib/python3.6/dist-packages/tensorflow/python/ops/math_ops.py:3066: to_int32 (from tensorflow.python.ops.math_ops) is deprecated and will be removed in a future version.\n",
            "Instructions for updating:\n",
            "Use tf.cast instead.\n",
            "Train on 7982 samples, validate on 1000 samples\n",
            "Epoch 1/20\n",
            "7982/7982 [==============================] - 2s 266us/step - loss: 2.5322 - acc: 0.4955 - val_loss: 1.7208 - val_acc: 0.6120\n",
            "Epoch 2/20\n",
            "7982/7982 [==============================] - 1s 172us/step - loss: 1.4452 - acc: 0.6879 - val_loss: 1.3459 - val_acc: 0.7060\n",
            "Epoch 3/20\n",
            "7982/7982 [==============================] - 1s 166us/step - loss: 1.0953 - acc: 0.7651 - val_loss: 1.1708 - val_acc: 0.7430\n",
            "Epoch 4/20\n",
            "7982/7982 [==============================] - 1s 170us/step - loss: 0.8697 - acc: 0.8165 - val_loss: 1.0793 - val_acc: 0.7590\n",
            "Epoch 5/20\n",
            "7982/7982 [==============================] - 1s 170us/step - loss: 0.7034 - acc: 0.8472 - val_loss: 0.9844 - val_acc: 0.7810\n",
            "Epoch 6/20\n",
            "7982/7982 [==============================] - 1s 169us/step - loss: 0.5667 - acc: 0.8802 - val_loss: 0.9411 - val_acc: 0.8040\n",
            "Epoch 7/20\n",
            "7982/7982 [==============================] - 1s 170us/step - loss: 0.4581 - acc: 0.9048 - val_loss: 0.9083 - val_acc: 0.8020\n",
            "Epoch 8/20\n",
            "7982/7982 [==============================] - 1s 170us/step - loss: 0.3695 - acc: 0.9231 - val_loss: 0.9363 - val_acc: 0.7890\n",
            "Epoch 9/20\n",
            "7982/7982 [==============================] - 1s 168us/step - loss: 0.3032 - acc: 0.9315 - val_loss: 0.8917 - val_acc: 0.8090\n",
            "Epoch 10/20\n",
            "7982/7982 [==============================] - 1s 170us/step - loss: 0.2537 - acc: 0.9414 - val_loss: 0.9071 - val_acc: 0.8110\n",
            "Epoch 11/20\n",
            "7982/7982 [==============================] - 1s 170us/step - loss: 0.2187 - acc: 0.9471 - val_loss: 0.9177 - val_acc: 0.8130\n",
            "Epoch 12/20\n",
            "7982/7982 [==============================] - 1s 171us/step - loss: 0.1873 - acc: 0.9508 - val_loss: 0.9027 - val_acc: 0.8130\n",
            "Epoch 13/20\n",
            "7982/7982 [==============================] - 1s 170us/step - loss: 0.1703 - acc: 0.9521 - val_loss: 0.9323 - val_acc: 0.8110\n",
            "Epoch 14/20\n",
            "7982/7982 [==============================] - 1s 168us/step - loss: 0.1536 - acc: 0.9554 - val_loss: 0.9689 - val_acc: 0.8050\n",
            "Epoch 15/20\n",
            "7982/7982 [==============================] - 1s 169us/step - loss: 0.1390 - acc: 0.9560 - val_loss: 0.9686 - val_acc: 0.8150\n",
            "Epoch 16/20\n",
            "7982/7982 [==============================] - 1s 169us/step - loss: 0.1313 - acc: 0.9560 - val_loss: 1.0220 - val_acc: 0.8060\n",
            "Epoch 17/20\n",
            "7982/7982 [==============================] - 1s 169us/step - loss: 0.1217 - acc: 0.9579 - val_loss: 1.0254 - val_acc: 0.7970\n",
            "Epoch 18/20\n",
            "7982/7982 [==============================] - 1s 168us/step - loss: 0.1198 - acc: 0.9582 - val_loss: 1.0430 - val_acc: 0.8060\n",
            "Epoch 19/20\n",
            "7982/7982 [==============================] - 1s 170us/step - loss: 0.1138 - acc: 0.9597 - val_loss: 1.0955 - val_acc: 0.7970\n",
            "Epoch 20/20\n",
            "7982/7982 [==============================] - 1s 170us/step - loss: 0.1111 - acc: 0.9593 - val_loss: 1.0674 - val_acc: 0.8020\n"
          ],
          "name": "stdout"
        }
      ]
    },
    {
      "metadata": {
        "id": "LzfB8iPsUnHe",
        "colab_type": "text"
      },
      "cell_type": "markdown",
      "source": [
        "### **Plotting the training and validation loss**"
      ]
    },
    {
      "metadata": {
        "id": "Cm1JwGnBU0No",
        "colab_type": "code",
        "colab": {}
      },
      "cell_type": "code",
      "source": [
        "import matplotlib.pyplot as plt"
      ],
      "execution_count": 0,
      "outputs": []
    },
    {
      "metadata": {
        "id": "O5D1y5SdU8YR",
        "colab_type": "code",
        "colab": {
          "base_uri": "https://localhost:8080/",
          "height": 376
        },
        "outputId": "85cad94c-e0bb-4d56-b4a0-0b65e1b10605"
      },
      "cell_type": "code",
      "source": [
        "loss = history.history['loss']\n",
        "val_loss = history.history['val_loss']\n",
        "\n",
        "epochs = range(1, len(loss) + 1)\n",
        "\n",
        "plt.plot(epochs, loss, 'bo', label = 'Training loss')\n",
        "plt.plot(epochs, val_loss, 'b', label = 'Validation loss')\n",
        "plt.title('Training and Validation Loss')\n",
        "plt.xlabel('Epochs')\n",
        "plt.ylabel('loss')\n",
        "plt.legend()\n",
        "\n",
        "plt.show()"
      ],
      "execution_count": 132,
      "outputs": [
        {
          "output_type": "display_data",
          "data": {
            "image/png": "[encoded data removed]",
            "text/plain": [
              "<Figure size 576x396 with 1 Axes>"
            ]
          },
          "metadata": {
            "tags": []
          }
        }
      ]
    },
    {
      "metadata": {
        "id": "lpxGl9gLWmE7",
        "colab_type": "text"
      },
      "cell_type": "markdown",
      "source": [
        "### **Plotting the training and validation loss**"
      ]
    },
    {
      "metadata": {
        "id": "_4r32nzlWlXR",
        "colab_type": "code",
        "colab": {
          "base_uri": "https://localhost:8080/",
          "height": 376
        },
        "outputId": "2de55e31-d4b1-4bf0-84a4-fa9598110737"
      },
      "cell_type": "code",
      "source": [
        "plt.clf()  #clear figure\n",
        "\n",
        "acc = history.history['acc']\n",
        "val_acc = history.history['val_acc']\n",
        "\n",
        "plt.plot(epochs, acc, 'bo', label = 'Training acc')\n",
        "plt.plot(epochs, val_acc, 'b', label = 'Validation acc')\n",
        "plt.title('Training and Validation Accuracy')\n",
        "plt.xlabel('Epochs')\n",
        "plt.ylabel('loss')\n",
        "plt.legend()\n",
        "\n",
        "plt.show()\n"
      ],
      "execution_count": 133,
      "outputs": [
        {
          "output_type": "display_data",
          "data": {
            "image/png": "[encoded data removed]",
            "text/plain": [
              "<Figure size 576x396 with 1 Axes>"
            ]
          },
          "metadata": {
            "tags": []
          }
        }
      ]
    },
    {
      "metadata": {
        "id": "XJmZTfw5jqjF",
        "colab_type": "text"
      },
      "cell_type": "markdown",
      "source": [
        "# **Retraining the Model**\n",
        "\n",
        "---\n",
        "\n",
        "**Considering the overfitting( train_acc > Valid_acc) at 9 Epochs, a new model has been defined with no. of epochs = 9.**"
      ]
    },
    {
      "metadata": {
        "id": "MhyzLr0Cjc0A",
        "colab_type": "code",
        "colab": {
          "base_uri": "https://localhost:8080/",
          "height": 373
        },
        "outputId": "00fdbe20-8e67-4f0a-dc38-be9f0d3fda7a"
      },
      "cell_type": "code",
      "source": [
        "# Redifinition of model\n",
        "model = models.Sequential()\n",
        "model.add(layers.Dense(64, activation = 'relu', input_shape = (10000,)))\n",
        "model.add(layers.Dense(64, activation = 'relu'))\n",
        "model.add(layers.Dense(46, activation = 'softmax'))\n",
        "\n",
        "# Compilation of new model\n",
        "model.compile(optimizer = 'rmsprop',\n",
        "             loss = 'categorical_crossentropy',\n",
        "             metrics = ['accuracy'])\n",
        "\n",
        "# training the new model\n",
        "model.fit(partial_x_train,\n",
        "         partial_y_train,\n",
        "         epochs = 9,\n",
        "         batch_size = 512,\n",
        "         validation_data = (x_val, y_val))\n",
        "# results\n",
        "results = model.evaluate(x_test, one_hot_test_labels)\n",
        "\n",
        "\n"
      ],
      "execution_count": 147,
      "outputs": [
        {
          "output_type": "stream",
          "text": [
            "Train on 7982 samples, validate on 1000 samples\n",
            "Epoch 1/9\n",
            "7982/7982 [==============================] - 2s 209us/step - loss: 2.6366 - acc: 0.5391 - val_loss: 1.7279 - val_acc: 0.6340\n",
            "Epoch 2/9\n",
            "7982/7982 [==============================] - 1s 170us/step - loss: 1.4114 - acc: 0.7102 - val_loss: 1.2984 - val_acc: 0.7140\n",
            "Epoch 3/9\n",
            "7982/7982 [==============================] - 1s 168us/step - loss: 1.0475 - acc: 0.7799 - val_loss: 1.1244 - val_acc: 0.7450\n",
            "Epoch 4/9\n",
            "7982/7982 [==============================] - 1s 169us/step - loss: 0.8249 - acc: 0.8274 - val_loss: 1.0162 - val_acc: 0.7880\n",
            "Epoch 5/9\n",
            "7982/7982 [==============================] - 1s 169us/step - loss: 0.6535 - acc: 0.8647 - val_loss: 0.9514 - val_acc: 0.7960\n",
            "Epoch 6/9\n",
            "7982/7982 [==============================] - 1s 168us/step - loss: 0.5177 - acc: 0.8919 - val_loss: 0.8963 - val_acc: 0.8160\n",
            "Epoch 7/9\n",
            "7982/7982 [==============================] - 1s 168us/step - loss: 0.4132 - acc: 0.9144 - val_loss: 0.8829 - val_acc: 0.8220\n",
            "Epoch 8/9\n",
            "7982/7982 [==============================] - 1s 170us/step - loss: 0.3351 - acc: 0.9291 - val_loss: 0.8911 - val_acc: 0.8080\n",
            "Epoch 9/9\n",
            "7982/7982 [==============================] - 1s 170us/step - loss: 0.2789 - acc: 0.9391 - val_loss: 0.8908 - val_acc: 0.8170\n",
            "2246/2246 [==============================] - 0s 140us/step\n"
          ],
          "name": "stdout"
        }
      ]
    },
    {
      "metadata": {
        "id": "j_V9HVfDmp7m",
        "colab_type": "text"
      },
      "cell_type": "markdown",
      "source": [
        "# **Final Results**"
      ]
    },
    {
      "metadata": {
        "id": "cCbTnL-gmpPr",
        "colab_type": "code",
        "colab": {
          "base_uri": "https://localhost:8080/",
          "height": 34
        },
        "outputId": "30ed6333-de7d-422a-9a1e-598d1822d3c5"
      },
      "cell_type": "code",
      "source": [
        "results"
      ],
      "execution_count": 148,
      "outputs": [
        {
          "output_type": "execute_result",
          "data": {
            "text/plain": [
              "[0.9705546382061626, 0.7853962600178095]"
            ]
          },
          "metadata": {
            "tags": []
          },
          "execution_count": 148
        }
      ]
    },
    {
      "metadata": {
        "id": "-4lHWSN7nK6-",
        "colab_type": "text"
      },
      "cell_type": "markdown",
      "source": [
        "# **Accuracy of a Random Baseline**"
      ]
    },
    {
      "metadata": {
        "id": "mPEnLQ4WnVMI",
        "colab_type": "code",
        "colab": {}
      },
      "cell_type": "code",
      "source": [
        "import copy"
      ],
      "execution_count": 0,
      "outputs": []
    },
    {
      "metadata": {
        "id": "EJY1y0kdnfB4",
        "colab_type": "code",
        "colab": {
          "base_uri": "https://localhost:8080/",
          "height": 34
        },
        "outputId": "1632b7b2-83f3-4391-b11c-9421f332dda9"
      },
      "cell_type": "code",
      "source": [
        "test_labels_copy = copy.copy(test_labels)\n",
        "np.random.shuffle(test_labels_copy)\n",
        "float(np.sum(np.array(test_labels) == np.array(test_labels.copy))) / len(test_labels)\n"
      ],
      "execution_count": 143,
      "outputs": [
        {
          "output_type": "execute_result",
          "data": {
            "text/plain": [
              "0.0"
            ]
          },
          "metadata": {
            "tags": []
          },
          "execution_count": 143
        }
      ]
    },
    {
      "metadata": {
        "id": "_TO2m-DGo9At",
        "colab_type": "text"
      },
      "cell_type": "markdown",
      "source": [
        "# **Generating Predictions **"
      ]
    },
    {
      "metadata": {
        "id": "KfEuDHRgo9ZC",
        "colab_type": "code",
        "colab": {
          "base_uri": "https://localhost:8080/",
          "height": 218
        },
        "outputId": "9a2067fa-5083-4c42-bc4a-33d7d15ae0a7"
      },
      "cell_type": "code",
      "source": [
        "predictions = model.predict(x_test)\n",
        "predictions[0]"
      ],
      "execution_count": 171,
      "outputs": [
        {
          "output_type": "execute_result",
          "data": {
            "text/plain": [
              "array([3.41072359e-06, 6.94695846e-05, 8.83885059e-06, 9.52062130e-01,\n",
              "       4.00291011e-02, 4.07079688e-06, 5.53550672e-06, 2.25702988e-05,\n",
              "       2.56415899e-03, 2.03362788e-06, 1.58193416e-06, 3.41104227e-04,\n",
              "       1.43056430e-04, 5.35931395e-05, 1.43669977e-05, 1.63771729e-05,\n",
              "       2.33614861e-04, 3.90678542e-05, 1.12856775e-04, 1.94992521e-03,\n",
              "       1.50486897e-03, 1.40022676e-04, 3.50753953e-06, 1.00971782e-04,\n",
              "       1.36828439e-05, 2.30370347e-06, 1.09528437e-05, 3.98014663e-06,\n",
              "       1.78690043e-05, 5.91045609e-05, 4.20407123e-05, 4.13541699e-07,\n",
              "       9.32628973e-06, 1.97353966e-05, 1.69608284e-05, 6.63118669e-07,\n",
              "       1.11394722e-04, 4.93749712e-06, 1.23468226e-05, 1.78702408e-04,\n",
              "       1.34419788e-05, 4.93672305e-05, 1.77744300e-06, 3.18841057e-06,\n",
              "       2.21230295e-07, 1.34722075e-06], dtype=float32)"
            ]
          },
          "metadata": {
            "tags": []
          },
          "execution_count": 171
        }
      ]
    },
    {
      "metadata": {
        "id": "XekdEaUarJP4",
        "colab_type": "text"
      },
      "cell_type": "markdown",
      "source": [
        "### **Shape of a Prediction (a vector of length 46)**"
      ]
    },
    {
      "metadata": {
        "id": "pk0fQRulpuwZ",
        "colab_type": "code",
        "colab": {
          "base_uri": "https://localhost:8080/",
          "height": 34
        },
        "outputId": "2a4f017e-3375-41f5-b22f-571bf83baf6a"
      },
      "cell_type": "code",
      "source": [
        "predictions[0].shape"
      ],
      "execution_count": 155,
      "outputs": [
        {
          "output_type": "execute_result",
          "data": {
            "text/plain": [
              "(46,)"
            ]
          },
          "metadata": {
            "tags": []
          },
          "execution_count": 155
        }
      ]
    },
    {
      "metadata": {
        "id": "dbpv8aA-psda",
        "colab_type": "text"
      },
      "cell_type": "markdown",
      "source": [
        "### **the co-efficients in the prediction vector sum to 1**"
      ]
    },
    {
      "metadata": {
        "id": "EaCTMk6rp4Of",
        "colab_type": "code",
        "colab": {
          "base_uri": "https://localhost:8080/",
          "height": 34
        },
        "outputId": "78791cb1-459c-4f97-bf4e-f6f69c4b32bf"
      },
      "cell_type": "code",
      "source": [
        "np.sum(predictions[0])"
      ],
      "execution_count": 151,
      "outputs": [
        {
          "output_type": "execute_result",
          "data": {
            "text/plain": [
              "1.0"
            ]
          },
          "metadata": {
            "tags": []
          },
          "execution_count": 151
        }
      ]
    },
    {
      "metadata": {
        "id": "jRnHBaYYrJIf",
        "colab_type": "text"
      },
      "cell_type": "markdown",
      "source": [
        "### **Class with max probability**"
      ]
    },
    {
      "metadata": {
        "id": "wKo-FTv-qp-J",
        "colab_type": "code",
        "colab": {
          "base_uri": "https://localhost:8080/",
          "height": 34
        },
        "outputId": "39fe97e1-e88f-4cbd-8a0d-aae25d29241b"
      },
      "cell_type": "code",
      "source": [
        "np.argmax(predictions[0])"
      ],
      "execution_count": 152,
      "outputs": [
        {
          "output_type": "execute_result",
          "data": {
            "text/plain": [
              "3"
            ]
          },
          "metadata": {
            "tags": []
          },
          "execution_count": 152
        }
      ]
    },
    {
      "metadata": {
        "id": "6gVFCLoGrOOi",
        "colab_type": "text"
      },
      "cell_type": "markdown",
      "source": [
        "# **Alternative Way of Encoding Labels**"
      ]
    },
    {
      "metadata": {
        "id": "PGqJ_CsRrQPW",
        "colab_type": "text"
      },
      "cell_type": "markdown",
      "source": [
        "### **converting the labels in to numpy array**"
      ]
    },
    {
      "metadata": {
        "id": "QJewb7H_rOp6",
        "colab_type": "code",
        "colab": {}
      },
      "cell_type": "code",
      "source": [
        "y_train = np.array(train_labels)\n",
        "y_test = np.array(test_labels)"
      ],
      "execution_count": 0,
      "outputs": []
    },
    {
      "metadata": {
        "id": "6cjrIOEirOva",
        "colab_type": "text"
      },
      "cell_type": "markdown",
      "source": [
        "### **Redefining compilation step**\n",
        "\n",
        "---\n",
        "\n",
        "### Using sparse_categorical_crossentropy loss function because categorical_crossentropy demands categorical encoding"
      ]
    },
    {
      "metadata": {
        "id": "SOtMWrE0rO28",
        "colab_type": "code",
        "colab": {}
      },
      "cell_type": "code",
      "source": [
        "model.compile(optimizer = 'rmsprop', loss = 'sparse_categorical_crossentropy', metrics = ['acc'] )"
      ],
      "execution_count": 0,
      "outputs": []
    }
  ]
}