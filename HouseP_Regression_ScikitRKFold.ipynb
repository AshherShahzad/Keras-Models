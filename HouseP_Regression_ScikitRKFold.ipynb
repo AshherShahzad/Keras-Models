{
  "nbformat": 4,
  "nbformat_minor": 0,
  "metadata": {
    "colab": {
      "name": "HouseP_Regression_ScikitRKFold.ipynb",
      "version": "0.3.2",
      "provenance": [],
      "collapsed_sections": []
    },
    "kernelspec": {
      "name": "python3",
      "display_name": "Python 3"
    }
  },
  "cells": [
    {
      "metadata": {
        "id": "r4RJ8lBiZ4A-",
        "colab_type": "text"
      },
      "cell_type": "markdown",
      "source": [
        "# **House_Predictions using Boston_Housing Dataset with Regression Model** \n",
        "\n",
        "---\n",
        "\n",
        "### **Regression uses targets (Continuous Values) instead of labels (Discrete Values)**\n",
        "\n",
        "### Scikit-learn's Repeated K-Fold Method behaves little differently than the tradional K-Fold, as no. of split were 4 but scores were 5 at 100 epochs and after tuning the no. of epochs i.e. 500, the resultant scores were 6 \n",
        "\n",
        "### Good thing is that overall final result got better i.e. from 17.97% to 16.81%"
      ]
    },
    {
      "metadata": {
        "id": "4BmCfbigcNyB",
        "colab_type": "text"
      },
      "cell_type": "markdown",
      "source": [
        "## ** Loading Dataset **"
      ]
    },
    {
      "metadata": {
        "id": "gZVqPdTQ5d2x",
        "colab_type": "code",
        "colab": {}
      },
      "cell_type": "code",
      "source": [
        "from keras.datasets import boston_housing\n",
        "\n",
        "(train_data, train_targets), (test_data, test_targets) = boston_housing.load_data()"
      ],
      "execution_count": 0,
      "outputs": []
    },
    {
      "metadata": {
        "id": "aHPtOUHPbP9x",
        "colab_type": "text"
      },
      "cell_type": "markdown",
      "source": [
        "## **Checking Shape of Data**"
      ]
    },
    {
      "metadata": {
        "id": "7vhUvw75aJno",
        "colab_type": "code",
        "outputId": "fbd963e7-eb38-4fdf-e53a-37932c0ee8c6",
        "colab": {
          "base_uri": "https://localhost:8080/",
          "height": 34
        }
      },
      "cell_type": "code",
      "source": [
        "train_data.shape   # samples, features ; 2D tensor\n",
        "                      # 404 training samples, with 13 features e.g. Crime Rate "
      ],
      "execution_count": 63,
      "outputs": [
        {
          "output_type": "execute_result",
          "data": {
            "text/plain": [
              "(404, 13)"
            ]
          },
          "metadata": {
            "tags": []
          },
          "execution_count": 63
        }
      ]
    },
    {
      "metadata": {
        "id": "Eh4D_O_vbXJe",
        "colab_type": "code",
        "outputId": "1ca14153-fd82-4b99-e7d0-4b299a2a39c8",
        "colab": {
          "base_uri": "https://localhost:8080/",
          "height": 34
        }
      },
      "cell_type": "code",
      "source": [
        "test_data.shape"
      ],
      "execution_count": 64,
      "outputs": [
        {
          "output_type": "execute_result",
          "data": {
            "text/plain": [
              "(102, 13)"
            ]
          },
          "metadata": {
            "tags": []
          },
          "execution_count": 64
        }
      ]
    },
    {
      "metadata": {
        "id": "RsoMxPz3hwbL",
        "colab_type": "text"
      },
      "cell_type": "markdown",
      "source": [
        "## **Checking train_targets**"
      ]
    },
    {
      "metadata": {
        "id": "qnJnJ54wdD7m",
        "colab_type": "code",
        "colab": {
          "base_uri": "https://localhost:8080/",
          "height": 638
        },
        "outputId": "604de1f8-3f00-415c-efdf-a78a9f33d564"
      },
      "cell_type": "code",
      "source": [
        "train_targets  # the median values of owner-occupied homes (in USD, according to 1970s period)"
      ],
      "execution_count": 65,
      "outputs": [
        {
          "output_type": "execute_result",
          "data": {
            "text/plain": [
              "array([15.2, 42.3, 50. , 21.1, 17.7, 18.5, 11.3, 15.6, 15.6, 14.4, 12.1,\n",
              "       17.9, 23.1, 19.9, 15.7,  8.8, 50. , 22.5, 24.1, 27.5, 10.9, 30.8,\n",
              "       32.9, 24. , 18.5, 13.3, 22.9, 34.7, 16.6, 17.5, 22.3, 16.1, 14.9,\n",
              "       23.1, 34.9, 25. , 13.9, 13.1, 20.4, 20. , 15.2, 24.7, 22.2, 16.7,\n",
              "       12.7, 15.6, 18.4, 21. , 30.1, 15.1, 18.7,  9.6, 31.5, 24.8, 19.1,\n",
              "       22. , 14.5, 11. , 32. , 29.4, 20.3, 24.4, 14.6, 19.5, 14.1, 14.3,\n",
              "       15.6, 10.5,  6.3, 19.3, 19.3, 13.4, 36.4, 17.8, 13.5, 16.5,  8.3,\n",
              "       14.3, 16. , 13.4, 28.6, 43.5, 20.2, 22. , 23. , 20.7, 12.5, 48.5,\n",
              "       14.6, 13.4, 23.7, 50. , 21.7, 39.8, 38.7, 22.2, 34.9, 22.5, 31.1,\n",
              "       28.7, 46. , 41.7, 21. , 26.6, 15. , 24.4, 13.3, 21.2, 11.7, 21.7,\n",
              "       19.4, 50. , 22.8, 19.7, 24.7, 36.2, 14.2, 18.9, 18.3, 20.6, 24.6,\n",
              "       18.2,  8.7, 44. , 10.4, 13.2, 21.2, 37. , 30.7, 22.9, 20. , 19.3,\n",
              "       31.7, 32. , 23.1, 18.8, 10.9, 50. , 19.6,  5. , 14.4, 19.8, 13.8,\n",
              "       19.6, 23.9, 24.5, 25. , 19.9, 17.2, 24.6, 13.5, 26.6, 21.4, 11.9,\n",
              "       22.6, 19.6,  8.5, 23.7, 23.1, 22.4, 20.5, 23.6, 18.4, 35.2, 23.1,\n",
              "       27.9, 20.6, 23.7, 28. , 13.6, 27.1, 23.6, 20.6, 18.2, 21.7, 17.1,\n",
              "        8.4, 25.3, 13.8, 22.2, 18.4, 20.7, 31.6, 30.5, 20.3,  8.8, 19.2,\n",
              "       19.4, 23.1, 23. , 14.8, 48.8, 22.6, 33.4, 21.1, 13.6, 32.2, 13.1,\n",
              "       23.4, 18.9, 23.9, 11.8, 23.3, 22.8, 19.6, 16.7, 13.4, 22.2, 20.4,\n",
              "       21.8, 26.4, 14.9, 24.1, 23.8, 12.3, 29.1, 21. , 19.5, 23.3, 23.8,\n",
              "       17.8, 11.5, 21.7, 19.9, 25. , 33.4, 28.5, 21.4, 24.3, 27.5, 33.1,\n",
              "       16.2, 23.3, 48.3, 22.9, 22.8, 13.1, 12.7, 22.6, 15. , 15.3, 10.5,\n",
              "       24. , 18.5, 21.7, 19.5, 33.2, 23.2,  5. , 19.1, 12.7, 22.3, 10.2,\n",
              "       13.9, 16.3, 17. , 20.1, 29.9, 17.2, 37.3, 45.4, 17.8, 23.2, 29. ,\n",
              "       22. , 18. , 17.4, 34.6, 20.1, 25. , 15.6, 24.8, 28.2, 21.2, 21.4,\n",
              "       23.8, 31. , 26.2, 17.4, 37.9, 17.5, 20. ,  8.3, 23.9,  8.4, 13.8,\n",
              "        7.2, 11.7, 17.1, 21.6, 50. , 16.1, 20.4, 20.6, 21.4, 20.6, 36.5,\n",
              "        8.5, 24.8, 10.8, 21.9, 17.3, 18.9, 36.2, 14.9, 18.2, 33.3, 21.8,\n",
              "       19.7, 31.6, 24.8, 19.4, 22.8,  7.5, 44.8, 16.8, 18.7, 50. , 50. ,\n",
              "       19.5, 20.1, 50. , 17.2, 20.8, 19.3, 41.3, 20.4, 20.5, 13.8, 16.5,\n",
              "       23.9, 20.6, 31.5, 23.3, 16.8, 14. , 33.8, 36.1, 12.8, 18.3, 18.7,\n",
              "       19.1, 29. , 30.1, 50. , 50. , 22. , 11.9, 37.6, 50. , 22.7, 20.8,\n",
              "       23.5, 27.9, 50. , 19.3, 23.9, 22.6, 15.2, 21.7, 19.2, 43.8, 20.3,\n",
              "       33.2, 19.9, 22.5, 32.7, 22. , 17.1, 19. , 15. , 16.1, 25.1, 23.7,\n",
              "       28.7, 37.2, 22.6, 16.4, 25. , 29.8, 22.1, 17.4, 18.1, 30.3, 17.5,\n",
              "       24.7, 12.6, 26.5, 28.7, 13.3, 10.4, 24.4, 23. , 20. , 17.8,  7. ,\n",
              "       11.8, 24.4, 13.8, 19.4, 25.2, 19.4, 19.4, 29.1])"
            ]
          },
          "metadata": {
            "tags": []
          },
          "execution_count": 65
        }
      ]
    },
    {
      "metadata": {
        "id": "hdO4n88NhylM",
        "colab_type": "text"
      },
      "cell_type": "markdown",
      "source": [
        "# Preparing Data\n",
        "\n",
        "---\n",
        "\n",
        "## Normalizing the Data\n",
        "\n",
        "### feature-wise normalization i.e. (feature - mean)/ standard deviation using Numpy\n",
        "### Using Normalization, to prevent hetrogenous ranges feeding to a Neural Network or to feed homogenous range (each feature close to zero) to a NN."
      ]
    },
    {
      "metadata": {
        "id": "2D2hD9nahskE",
        "colab_type": "code",
        "colab": {}
      },
      "cell_type": "code",
      "source": [
        "mean = train_data.mean(axis = 0)   # features on axis 0\n",
        "train_data -= mean\n",
        "std = train_data.std(axis = 0)\n",
        "train_data /= std\n",
        "\n",
        "# Note: the quantities use for normalizing the test data, have been computed on train data (BEWARE: Never use computing on test data)\n",
        "\n",
        "test_data -= mean\n",
        "test_data /= std"
      ],
      "execution_count": 0,
      "outputs": []
    },
    {
      "metadata": {
        "id": "8BnXfmBetA2q",
        "colab_type": "text"
      },
      "cell_type": "markdown",
      "source": [
        "# Building Network \n",
        "\n",
        "---\n",
        "\n",
        "## Defining the Model \n",
        "\n",
        "### Example of Scalar Regression, i.e. in which a single continuous value will be predicted.\n",
        "\n",
        "### No ACTIVATION function will be used on OUTPUT layer, because we are willing to predict a single unit, i.e. the last layer will be a linear layer, allowing the network to predict values in  any range. \n",
        "\n",
        "### Sigmoid is not used on last layer, because it will restrict the range (an output can take) between 0 to 1.\n",
        "\n",
        "### MSE (Mean Squaared Error, squared difference of predictions and targets) is used as a loss function, because of the industry practices.\n",
        "\n",
        "### MEA (Mean Absolute Error, the absolute difference value of predictions and targets i.e. a MAE of 0.5 will reflect that predictions are off by USD 500 from targets on average)\n",
        "\n"
      ]
    },
    {
      "metadata": {
        "id": "_vfvkhXvs_Sr",
        "colab_type": "code",
        "colab": {}
      },
      "cell_type": "code",
      "source": [
        "from keras import models\n",
        "from keras import layers\n",
        "\n",
        "# For Reusability, model is defined as a function.\n",
        "\n",
        "def build_model():\n",
        "  model = models.Sequential()\n",
        "  model.add(layers.Dense(64, activation = 'relu', input_shape = (train_data.shape[1],))) # number of features (13) are used as vector in input shape\n",
        "  model.add(layers.Dense(64, activation = 'relu'))\n",
        "  model.add(layers.Dense(1)) # no activation function\n",
        "  model.compile(optimizer = 'rmsprop', loss = 'mse', metrics = ['mae'])\n",
        "  return model"
      ],
      "execution_count": 0,
      "outputs": []
    },
    {
      "metadata": {
        "id": "ec5TxGYLzXxg",
        "colab_type": "text"
      },
      "cell_type": "markdown",
      "source": [
        "# Validation Step : Using K-fold Cross-Validation Method\n",
        "\n",
        "---\n",
        "\n",
        "### Especially, when you have small dataset or else it will take more time to process\n",
        "### In order to aviod increasing the variance between validation and training set split i.e. to allow more room for generalization\n",
        "\n"
      ]
    },
    {
      "metadata": {
        "id": "4tRX9IPpqu0a",
        "colab_type": "code",
        "colab": {}
      },
      "cell_type": "code",
      "source": [
        "import numpy as np"
      ],
      "execution_count": 0,
      "outputs": []
    },
    {
      "metadata": {
        "id": "cR28IrI0v4Yt",
        "colab_type": "code",
        "colab": {}
      },
      "cell_type": "code",
      "source": [
        "from sklearn.model_selection import RepeatedKFold \n",
        "\n",
        "X = train_data\n",
        "y = train_targets\n",
        "\n",
        "#def RepeatedKFold():\n",
        "kf = RepeatedKFold(n_splits=4, n_repeats=100, random_state=None) \n",
        "\n",
        "for train_index, test_index in kf.split(X):\n",
        "  print(\"Train:\", train_index, \"Validation:\",test_index)\n",
        "  partial_train_data, val_data = X[train_index], X[test_index] \n",
        "  partial_train_targets, val_targets = y[train_index], y[test_index]"
      ],
      "execution_count": 0,
      "outputs": []
    },
    {
      "metadata": {
        "id": "UZ9tk0Tlw6t6",
        "colab_type": "code",
        "colab": {}
      },
      "cell_type": "code",
      "source": [
        " # Build the Keras Models (already commpiled)\n",
        "  model = build_model()\n",
        "  # Train the model (in silence mode, verbose = 0)\n",
        "  model.fit(partial_train_data, partial_train_targets, epochs = 100, batch_size = 1, verbose = 0)\n",
        "  # Evaluate the model on the validation data\n",
        "  val_mse, val_mae = model.evaluate(val_data, val_targets, verbose = 0)\n",
        "  all_scores.append(val_mae)"
      ],
      "execution_count": 0,
      "outputs": []
    },
    {
      "metadata": {
        "id": "MaYqxjbswb5F",
        "colab_type": "code",
        "colab": {
          "base_uri": "https://localhost:8080/",
          "height": 101
        },
        "outputId": "e8a5b3f5-4b6a-44c9-e710-0164e529fcf3"
      },
      "cell_type": "code",
      "source": [
        "all_scores"
      ],
      "execution_count": 81,
      "outputs": [
        {
          "output_type": "execute_result",
          "data": {
            "text/plain": [
              "[2.0241272968821007,\n",
              " 2.3239941054051467,\n",
              " 2.779041604240342,\n",
              " 2.360041854995312,\n",
              " 2.426937988488981]"
            ]
          },
          "metadata": {
            "tags": []
          },
          "execution_count": 81
        }
      ]
    },
    {
      "metadata": {
        "id": "3iWBLk34DLew",
        "colab_type": "text"
      },
      "cell_type": "markdown",
      "source": [
        "## All Scores"
      ]
    },
    {
      "metadata": {
        "id": "pQ0CYgVJ7VKO",
        "colab_type": "code",
        "outputId": "fcc384a3-4b3f-4a0a-bfb4-2b387db98c50",
        "colab": {
          "base_uri": "https://localhost:8080/",
          "height": 101
        }
      },
      "cell_type": "code",
      "source": [
        "all_scores "
      ],
      "execution_count": 83,
      "outputs": [
        {
          "output_type": "execute_result",
          "data": {
            "text/plain": [
              "[2.0241272968821007,\n",
              " 2.3239941054051467,\n",
              " 2.779041604240342,\n",
              " 2.360041854995312,\n",
              " 2.426937988488981]"
            ]
          },
          "metadata": {
            "tags": []
          },
          "execution_count": 83
        }
      ]
    },
    {
      "metadata": {
        "id": "Ns--68WqDHVt",
        "colab_type": "text"
      },
      "cell_type": "markdown",
      "source": [
        "## Final Validation Score"
      ]
    },
    {
      "metadata": {
        "id": "IawxMpcUC6lD",
        "colab_type": "code",
        "outputId": "8e4b8468-c373-4b10-d708-efcacd4d95fa",
        "colab": {
          "base_uri": "https://localhost:8080/",
          "height": 34
        }
      },
      "cell_type": "code",
      "source": [
        "np.mean(all_scores)  # we are still off by USD 2367 on average"
      ],
      "execution_count": 84,
      "outputs": [
        {
          "output_type": "execute_result",
          "data": {
            "text/plain": [
              "2.382828570002377"
            ]
          },
          "metadata": {
            "tags": []
          },
          "execution_count": 84
        }
      ]
    },
    {
      "metadata": {
        "id": "UC46JWKcp68S",
        "colab_type": "text"
      },
      "cell_type": "markdown",
      "source": [
        "## Updating the Epochs"
      ]
    },
    {
      "metadata": {
        "id": "lHw8Df6Txr5p",
        "colab_type": "code",
        "colab": {}
      },
      "cell_type": "code",
      "source": [
        "from sklearn.model_selection import RepeatedKFold \n",
        "\n",
        "X = train_data\n",
        "y = train_targets\n",
        "\n",
        "\n",
        "#def RepeatedKFold():\n",
        "kf = RepeatedKFold(n_splits=4, n_repeats=500, random_state=None) \n",
        "\n",
        "for train_index, test_index in kf.split(X):\n",
        "  #print(\"Train:\", train_index, \"Validation:\",test_index)\n",
        "  partial_train_data, val_data = X[train_index], X[test_index] \n",
        "  partial_train_targets, val_targets = y[train_index], y[test_index]"
      ],
      "execution_count": 0,
      "outputs": []
    },
    {
      "metadata": {
        "id": "7gxLUh0Pe8ua",
        "colab_type": "code",
        "colab": {}
      },
      "cell_type": "code",
      "source": [
        " # Build the Keras Models (already commpiled)\n",
        "  model = build_model()\n",
        "  # Train the model (in silence mode, verbose = 0)\n",
        "  model.fit(partial_train_data, partial_train_targets, epochs = 500, batch_size = 1, verbose = 0)\n",
        "  # Evaluate the model on the validation data\n",
        "  val_mse, val_mae = model.evaluate(val_data, val_targets, verbose = 0)\n",
        "  all_scores.append(val_mae)"
      ],
      "execution_count": 0,
      "outputs": []
    },
    {
      "metadata": {
        "id": "BjqFMj0-yO3G",
        "colab_type": "code",
        "outputId": "a5abf710-d8e7-4816-f1b7-743666f9e738",
        "colab": {
          "base_uri": "https://localhost:8080/",
          "height": 118
        }
      },
      "cell_type": "code",
      "source": [
        "all_scores"
      ],
      "execution_count": 92,
      "outputs": [
        {
          "output_type": "execute_result",
          "data": {
            "text/plain": [
              "[2.0241272968821007,\n",
              " 2.3239941054051467,\n",
              " 2.779041604240342,\n",
              " 2.360041854995312,\n",
              " 2.426937988488981,\n",
              " 2.7708221803797355]"
            ]
          },
          "metadata": {
            "tags": []
          },
          "execution_count": 92
        }
      ]
    },
    {
      "metadata": {
        "id": "LptzOWQ7suxg",
        "colab_type": "code",
        "colab": {
          "base_uri": "https://localhost:8080/",
          "height": 34
        },
        "outputId": "05ba178c-9e6c-4dc9-c01f-270e4e1ba602"
      },
      "cell_type": "code",
      "source": [
        "np.mean(all_scores) "
      ],
      "execution_count": 93,
      "outputs": [
        {
          "output_type": "execute_result",
          "data": {
            "text/plain": [
              "2.4474941717319365"
            ]
          },
          "metadata": {
            "tags": []
          },
          "execution_count": 93
        }
      ]
    },
    {
      "metadata": {
        "id": "EdLGvEBOy4uf",
        "colab_type": "text"
      },
      "cell_type": "markdown",
      "source": [
        "# Training the final model"
      ]
    },
    {
      "metadata": {
        "id": "N0xM1fdMy4KZ",
        "colab_type": "code",
        "outputId": "ba7ed01c-9491-41ba-aa8d-e160ec4c9b70",
        "colab": {
          "base_uri": "https://localhost:8080/",
          "height": 34
        }
      },
      "cell_type": "code",
      "source": [
        "# Get a fresh compiled model.\n",
        "model = build_model()\n",
        "\n",
        "#Training on Entire Data\n",
        "model.fit(train_data, train_targets, epochs = 80, batch_size = 16, verbose = 0)\n",
        "test_mse_score, test_mae_score = model.evaluate(test_data, test_targets)"
      ],
      "execution_count": 94,
      "outputs": [
        {
          "output_type": "stream",
          "text": [
            "102/102 [==============================] - 0s 3ms/step\n"
          ],
          "name": "stdout"
        }
      ]
    },
    {
      "metadata": {
        "id": "Lxm12RLi7LId",
        "colab_type": "text"
      },
      "cell_type": "markdown",
      "source": [
        "# Final Result"
      ]
    },
    {
      "metadata": {
        "id": "3yCmB5Wu7KuE",
        "colab_type": "code",
        "outputId": "9e855d66-ddf8-4bab-907d-fcb7549ca265",
        "colab": {
          "base_uri": "https://localhost:8080/",
          "height": 34
        }
      },
      "cell_type": "code",
      "source": [
        "test_mse_score   # We are still off $ 1797"
      ],
      "execution_count": 95,
      "outputs": [
        {
          "output_type": "execute_result",
          "data": {
            "text/plain": [
              "16.81532871021944"
            ]
          },
          "metadata": {
            "tags": []
          },
          "execution_count": 95
        }
      ]
    },
    {
      "metadata": {
        "id": "Ob7DuxWnN9i_",
        "colab_type": "code",
        "colab": {}
      },
      "cell_type": "code",
      "source": [
        ""
      ],
      "execution_count": 0,
      "outputs": []
    }
  ]
}