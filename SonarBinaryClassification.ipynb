{
  "nbformat": 4,
  "nbformat_minor": 0,
  "metadata": {
    "colab": {
      "name": "SonarBinaryClassification.ipynb",
      "version": "0.3.2",
      "provenance": [],
      "collapsed_sections": [],
      "include_colab_link": true
    },
    "kernelspec": {
      "name": "python3",
      "display_name": "Python 3"
    }
  },
  "cells": [
    {
      "cell_type": "markdown",
      "metadata": {
        "id": "view-in-github",
        "colab_type": "text"
      },
      "source": [
        "<a href=\"https://colab.research.google.com/github/alihussainia/Keras-Models/blob/master/SonarBinaryClassification.ipynb\" target=\"_parent\"><img src=\"https://colab.research.google.com/assets/colab-badge.svg\" alt=\"Open In Colab\"/></a>"
      ]
    },
    {
      "metadata": {
        "id": "PluoPjmcvXYB",
        "colab_type": "text"
      },
      "cell_type": "markdown",
      "source": [
        "# Imports"
      ]
    },
    {
      "metadata": {
        "id": "3gmhGBlqefkE",
        "colab_type": "code",
        "outputId": "6e323de1-dfcc-43ac-93f7-00553021d68c",
        "colab": {
          "base_uri": "https://localhost:8080/",
          "height": 34
        }
      },
      "cell_type": "code",
      "source": [
        "import numpy\n",
        "from pandas import read_csv\n",
        "from keras.models import Sequential\n",
        "from keras.layers import Dense\n",
        "from keras.layers import Dropout\n",
        "from keras.wrappers.scikit_learn import KerasClassifier\n",
        "from keras.constraints import maxnorm\n",
        "from keras.optimizers import SGD\n",
        "from sklearn.model_selection import cross_val_score\n",
        "from sklearn.preprocessing import LabelEncoder\n",
        "from sklearn.model_selection import StratifiedKFold\n",
        "from sklearn.preprocessing import StandardScaler\n",
        "from sklearn.pipeline import Pipeline"
      ],
      "execution_count": 0,
      "outputs": [
        {
          "output_type": "stream",
          "text": [
            "Using TensorFlow backend.\n"
          ],
          "name": "stderr"
        }
      ]
    },
    {
      "metadata": {
        "id": "2t_xacPevbi0",
        "colab_type": "text"
      },
      "cell_type": "markdown",
      "source": [
        "# Fixing Random Seed"
      ]
    },
    {
      "metadata": {
        "id": "ukWdWOl5el5t",
        "colab_type": "code",
        "colab": {}
      },
      "cell_type": "code",
      "source": [
        "# fix random seed for reproducibility\n",
        "seed = 7\n",
        "numpy.random.seed(seed)"
      ],
      "execution_count": 0,
      "outputs": []
    },
    {
      "metadata": {
        "id": "24Ie5SKnvfzR",
        "colab_type": "text"
      },
      "cell_type": "markdown",
      "source": [
        "# Loading Data Set"
      ]
    },
    {
      "metadata": {
        "id": "yp9X_a5peokY",
        "colab_type": "code",
        "colab": {}
      },
      "cell_type": "code",
      "source": [
        "# load dataset\n",
        "dataframe = read_csv(\"sonar.csv\", header=None)\n",
        "dataset = dataframe.values\n",
        "# split into input (X) and output (Y) variables\n",
        "X = dataset[:,0:60].astype(float)\n",
        "Y = dataset[:,60]"
      ],
      "execution_count": 0,
      "outputs": []
    },
    {
      "metadata": {
        "id": "0qAQiahuvjIP",
        "colab_type": "text"
      },
      "cell_type": "markdown",
      "source": [
        "# Encoding Labels"
      ]
    },
    {
      "metadata": {
        "id": "JeaODgmmerxC",
        "colab_type": "code",
        "colab": {}
      },
      "cell_type": "code",
      "source": [
        "# encode class values as integers\n",
        "encoder = LabelEncoder()\n",
        "encoder.fit(Y)\n",
        "encoded_Y = encoder.transform(Y)"
      ],
      "execution_count": 0,
      "outputs": []
    },
    {
      "metadata": {
        "id": "_OrtJH1G3onz",
        "colab_type": "text"
      },
      "cell_type": "markdown",
      "source": [
        "# The Best Model\n",
        "\n",
        "---\n",
        "\n",
        "### Dropout Probability is 40%\n",
        "### Learning rate is 10%\n",
        "### Momentum is 80%\n",
        "### Decay is 0.02%"
      ]
    },
    {
      "metadata": {
        "id": "69eQ7auI0_q_",
        "colab_type": "code",
        "outputId": "940881e0-5dd5-419c-e3a5-0f30bdda04f7",
        "colab": {
          "base_uri": "https://localhost:8080/",
          "height": 34
        }
      },
      "cell_type": "code",
      "source": [
        "# Dropping Probability 40%   # the best combo\n",
        "# dropout in the input layer with weight constraint\n",
        "def create_model():\n",
        "\t# create model, insert code here\n",
        "\tmodel = Sequential()\n",
        "\tmodel.add(Dropout(0.4, input_shape=(60,)))\n",
        "\tmodel.add(Dense(60, kernel_initializer='normal', activation='relu', kernel_constraint=maxnorm(3)))\n",
        "\tmodel.add(Dense(30, kernel_initializer='normal', activation='relu', kernel_constraint=maxnorm(3)))\n",
        "\tmodel.add(Dense(1, kernel_initializer='normal', activation='sigmoid'))\n",
        "\n",
        "\n",
        "\t# Compile model\n",
        "\tsgd = SGD(lr=0.1, momentum=0.8, decay=0.002, nesterov=False)\n",
        "\tmodel.compile(loss='binary_crossentropy', optimizer=sgd, metrics=['accuracy'])\n",
        "\treturn model\n",
        "\n",
        "numpy.random.seed(seed)\n",
        "estimators = []\n",
        "estimators.append(('standardize', StandardScaler()))\n",
        "estimators.append(('mlp', KerasClassifier(build_fn=create_model, epochs=50, batch_size=28, verbose=0)))\n",
        "pipeline = Pipeline(estimators)\n",
        "kfold = StratifiedKFold(n_splits=33, shuffle=True, random_state=seed)\n",
        "results = cross_val_score(pipeline, X, encoded_Y, cv=kfold)\n",
        "print(\"Visible_Original: %.2f%% (%.2f%%)\" % (results.mean()*100, results.std()*100))"
      ],
      "execution_count": 0,
      "outputs": [
        {
          "output_type": "stream",
          "text": [
            "Visible_Original: 89.34% (11.03%)\n"
          ],
          "name": "stdout"
        }
      ]
    }
  ]
}