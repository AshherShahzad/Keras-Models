{
  "nbformat": 4,
  "nbformat_minor": 0,
  "metadata": {
    "colab": {
      "name": "Short_KFold_Method.ipynb",
      "version": "0.3.2",
      "provenance": [],
      "collapsed_sections": []
    },
    "kernelspec": {
      "name": "python3",
      "display_name": "Python 3"
    }
  },
  "cells": [
    {
      "metadata": {
        "id": "T8Opvxw0k9Pm",
        "colab_type": "text"
      },
      "cell_type": "markdown",
      "source": [
        "## Loading Data (Boston_Housing_DataSet)"
      ]
    },
    {
      "metadata": {
        "id": "oPKYMq5wYc83",
        "colab_type": "code",
        "colab": {}
      },
      "cell_type": "code",
      "source": [
        "from keras.datasets import boston_housing\n",
        "\n",
        "(train_data, train_targets) , (test_data, test_targets) = boston_housing.load_data()"
      ],
      "execution_count": 0,
      "outputs": []
    },
    {
      "metadata": {
        "id": "UpgN1e1blHqB",
        "colab_type": "text"
      },
      "cell_type": "markdown",
      "source": [
        "## Normalizing Data"
      ]
    },
    {
      "metadata": {
        "id": "ptHHzSOyaEr-",
        "colab_type": "code",
        "colab": {}
      },
      "cell_type": "code",
      "source": [
        "mean = train_data.mean(axis = 0)   # features on axis 0\n",
        "train_data -= mean\n",
        "std = train_data.std(axis = 0)\n",
        "train_data /= std\n",
        "\n",
        "# Note: the quantities use for normalizing the test data, have been computed on train data (BEWARE: Never use computing on test data)\n",
        "\n",
        "test_data -= mean\n",
        "test_data /= std"
      ],
      "execution_count": 0,
      "outputs": []
    },
    {
      "metadata": {
        "id": "zw31yOIBplzt",
        "colab_type": "text"
      },
      "cell_type": "markdown",
      "source": [
        "## New K-Fold Method (Using SciKit library)"
      ]
    },
    {
      "metadata": {
        "id": "RxPPRXwcmmRZ",
        "colab_type": "code",
        "colab": {}
      },
      "cell_type": "code",
      "source": [
        "from sklearn.model_selection import RepeatedKFold \n",
        "\n",
        "X = train_data\n",
        "y = train_targets\n",
        "\n",
        "#def RepeatedKFold():\n",
        "kf = RepeatedKFold(n_splits=4, n_repeats=100, random_state=None) \n",
        "\n",
        "for train_index, test_index in kf.split(X):\n",
        "  #print(\"Train:\", train_index, \"Validation:\",test_index)\n",
        "  partial_train_data, val_data = X[train_index], X[test_index] \n",
        "  partial_train_targets, val_targets = y[train_index], y[test_index]"
      ],
      "execution_count": 0,
      "outputs": []
    },
    {
      "metadata": {
        "id": "gm4_jtu5q_ty",
        "colab_type": "code",
        "outputId": "40186b47-fb47-4fe0-db37-f1c9029cdc68",
        "colab": {
          "base_uri": "https://localhost:8080/",
          "height": 84
        }
      },
      "cell_type": "code",
      "source": [
        "### Showing Resultant Shapes\n",
        "print(\"partial_train_data\", X_train.shape)\n",
        "print(\"val_data\",X_test.shape)\n",
        "print(\"partial_train_targets.shape\",y_train.shape)\n",
        "print(\"val_targets\",y_test.shape)"
      ],
      "execution_count": 53,
      "outputs": [
        {
          "output_type": "stream",
          "text": [
            "partial_train_data (303, 13)\n",
            "val_data (101, 13)\n",
            "partial_train_targets.shape (303,)\n",
            "val_targets (101,)\n"
          ],
          "name": "stdout"
        }
      ]
    },
    {
      "metadata": {
        "id": "d6_rE9zRlP_K",
        "colab_type": "text"
      },
      "cell_type": "markdown",
      "source": [
        "## Traditional K-fold Method"
      ]
    },
    {
      "metadata": {
        "id": "WVkfpF23aOQs",
        "colab_type": "code",
        "outputId": "78b9e998-e024-419d-e310-ceb0cb957d1b",
        "colab": {
          "base_uri": "https://localhost:8080/",
          "height": 151
        }
      },
      "cell_type": "code",
      "source": [
        "import numpy \n",
        "\n",
        "### Defining function to show resultant shapes ###\n",
        "\n",
        "def traditional_KFold():\n",
        "  k = 4\n",
        "  num_val_samples = len(train_data) // 4\n",
        "  num_epochs = 2\n",
        "  all_scores = []\n",
        "  for i in range(k):\n",
        "  #print('processing fold # ', i)\n",
        "  # prepare the validation data: data from partition # k\n",
        "    val_data = train_data[i * num_val_samples: (i + 1) * num_val_samples]\n",
        "    val_targets = train_targets[i * num_val_samples: (i + 1) * num_val_samples]\n",
        "  \n",
        "  # prepare the training data: data from data - k\n",
        "    partial_train_data = np.concatenate(\n",
        "        [train_data[:i * num_val_samples],\n",
        "         train_data[(i + 1 ) * num_val_samples:]], axis = 0)\n",
        "    partial_train_targets = np.concatenate(\n",
        "        [train_targets[:i * num_val_samples],\n",
        "         train_targets[(i + 1 ) * num_val_samples:]], axis = 0)   \n",
        "    \n",
        "    ##### SHOWING RESULTANT SHAPES ###### \n",
        "    return \"partial_train_data.shape \", partial_train_data.shape, \"val_data.shape \", val_data.shape,\"partial_train_targets.shape \", partial_train_targets.shape, \"val_targets: \",val_targets.shape\n",
        "        \n",
        "\n",
        "traditional_KFold()\n",
        "  "
      ],
      "execution_count": 51,
      "outputs": [
        {
          "output_type": "execute_result",
          "data": {
            "text/plain": [
              "('partial_train_data.shape ',\n",
              " (303, 13),\n",
              " 'val_data.shape ',\n",
              " (101, 13),\n",
              " 'partial_train_targets.shape ',\n",
              " (303,),\n",
              " 'val_targets: ',\n",
              " (101,))"
            ]
          },
          "metadata": {
            "tags": []
          },
          "execution_count": 51
        }
      ]
    }
  ]
}