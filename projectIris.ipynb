{
  "nbformat": 4,
  "nbformat_minor": 0,
  "metadata": {
    "colab": {
      "name": "projectIris.ipynb",
      "version": "0.3.2",
      "provenance": [],
      "collapsed_sections": []
    },
    "kernelspec": {
      "name": "python3",
      "display_name": "Python 3"
    }
  },
  "cells": [
    {
      "metadata": {
        "id": "k6pgKHG7uNr3",
        "colab_type": "text"
      },
      "cell_type": "markdown",
      "source": [
        "# Imports"
      ]
    },
    {
      "metadata": {
        "id": "1qBMIsB8NA3c",
        "colab_type": "code",
        "outputId": "64efe987-5e40-4860-cea9-91714847f1ce",
        "colab": {
          "base_uri": "https://localhost:8080/",
          "height": 34
        }
      },
      "cell_type": "code",
      "source": [
        "import numpy\n",
        "import pandas\n",
        "import keras\n",
        "import tensorflow.contrib.eager as tfe\n",
        "from keras import models\n",
        "from keras import layers\n",
        "from keras.models import Sequential\n",
        "from keras.layers import Dense\n",
        "from keras.wrappers.scikit_learn import KerasClassifier\n",
        "from sklearn.model_selection import cross_val_score\n",
        "from sklearn.model_selection import KFold\n",
        "from sklearn.model_selection import StratifiedKFold\n",
        "from sklearn.preprocessing import LabelEncoder\n",
        "from sklearn.pipeline import Pipeline\n",
        "from keras.utils import np_utils\n",
        "from sklearn.preprocessing import StandardScaler\n",
        "from sklearn import preprocessing\n",
        "from sklearn.utils import shuffle\n",
        "from keras.utils import plot_model\n",
        "from keras.models import Sequential, Model\n",
        "from keras import Input"
      ],
      "execution_count": 0,
      "outputs": [
        {
          "output_type": "stream",
          "text": [
            "Using TensorFlow backend.\n"
          ],
          "name": "stderr"
        }
      ]
    },
    {
      "metadata": {
        "id": "pUieMFc1uTK0",
        "colab_type": "text"
      },
      "cell_type": "markdown",
      "source": [
        "# fixing random seed"
      ]
    },
    {
      "metadata": {
        "id": "-2NJl7q0N3_L",
        "colab_type": "code",
        "colab": {}
      },
      "cell_type": "code",
      "source": [
        "# fix random seed for reproducibility\n",
        "seed = 7\n",
        "numpy.random.seed(seed)"
      ],
      "execution_count": 0,
      "outputs": []
    },
    {
      "metadata": {
        "id": "p5e7LP2ZuXCJ",
        "colab_type": "text"
      },
      "cell_type": "markdown",
      "source": [
        "# loading dataset"
      ]
    },
    {
      "metadata": {
        "id": "zmm79LcEOGso",
        "colab_type": "code",
        "colab": {}
      },
      "cell_type": "code",
      "source": [
        "# load dataset\n",
        "dataframe = pandas.read_csv(\"iris.csv\", header=None)\n",
        "dataset = dataframe.values\n",
        "X = dataset[:,0:4].astype(float)\n",
        "Y = dataset[:,4]"
      ],
      "execution_count": 0,
      "outputs": []
    },
    {
      "metadata": {
        "id": "k6Lqot_nuZ1A",
        "colab_type": "text"
      },
      "cell_type": "markdown",
      "source": [
        "# Encoding labels"
      ]
    },
    {
      "metadata": {
        "id": "aiGCp2mBORtd",
        "colab_type": "code",
        "colab": {}
      },
      "cell_type": "code",
      "source": [
        "# encode class values as integers\n",
        "encoder = LabelEncoder()\n",
        "encoder.fit(Y)\n",
        "encoded_Y = encoder.transform(Y)\n",
        "# convert integers to dummy variables (i.e. one hot encoded)\n",
        "dummy_y = np_utils.to_categorical(encoded_Y)\n"
      ],
      "execution_count": 0,
      "outputs": []
    },
    {
      "metadata": {
        "id": "1H_H9zkCP0-p",
        "colab_type": "code",
        "outputId": "00531e87-6c66-43f0-ee35-4fa437f212e0",
        "colab": {
          "base_uri": "https://localhost:8080/",
          "height": 34
        }
      },
      "cell_type": "code",
      "source": [
        "X.shape"
      ],
      "execution_count": 0,
      "outputs": [
        {
          "output_type": "execute_result",
          "data": {
            "text/plain": [
              "(150, 4)"
            ]
          },
          "metadata": {
            "tags": []
          },
          "execution_count": 8
        }
      ]
    },
    {
      "metadata": {
        "id": "tr_5xgCPeP_Q",
        "colab_type": "text"
      },
      "cell_type": "markdown",
      "source": [
        "# Model Subclassing"
      ]
    },
    {
      "metadata": {
        "id": "1Y7l3p2xahFe",
        "colab_type": "text"
      },
      "cell_type": "markdown",
      "source": [
        "## Tuned Model"
      ]
    },
    {
      "metadata": {
        "id": "Rbw_ddg1ia6v",
        "colab_type": "code",
        "outputId": "1c38808f-329b-4e48-b809-a837ab422c42",
        "colab": {
          "base_uri": "https://localhost:8080/",
          "height": 34
        }
      },
      "cell_type": "code",
      "source": [
        "class MyTunedModel(keras.Model):  # change\n",
        "  \n",
        "  def __init__(self):\n",
        "    super(MyTunedModel,self).__init__('my_tuned')   # change     \n",
        "    self.dense1 = keras.layers.Dense(8, activation='relu')\n",
        "    self.dense2 = keras.layers.Dense(10, activation='relu')   \n",
        "    self.dense3 = keras.layers.Dense(10, activation='relu')   \n",
        "    self.dense4 = keras.layers.Dense(10, activation='relu')   # change\n",
        "    self.dense5 = keras.layers.Dense(3, activation='softmax')\n",
        "    \n",
        "  def call(self, inputs):\n",
        "    x = self.dense1(inputs)\n",
        "    x = self.dense2(x)      # change\n",
        "    x = self.dense3(x) \n",
        "    x = self.dense4(x)  \n",
        "    return self.dense5(x)\n",
        "    \n",
        "def tuned_subclass_model():  # change\n",
        "  inputs = keras.Input(shape=(4,))\n",
        "  mymodel = MyTunedModel()        # change\n",
        "  outputs = mymodel.call(inputs)\n",
        "    \n",
        "  model = keras.Model(inputs,outputs)\n",
        "    \n",
        "# compiling model\n",
        "  model.compile(optimizer = 'Adam', loss = 'categorical_crossentropy', metrics = ['accuracy'])\n",
        "\n",
        "  return model\n",
        "\n",
        "estimator = KerasClassifier(build_fn=tuned_subclass_model, epochs=100, batch_size=5, verbose=0)    # change\n",
        "\n",
        "kfold = KFold(n_splits=10, shuffle=True, random_state=None)\n",
        "\n",
        "results = cross_val_score(estimator, X, dummy_y, cv=kfold)\n",
        "print(\"tuned_subclass_model: %.2f%% (%.2f%%)\" % (results.mean()*100, results.std()*100))  # change"
      ],
      "execution_count": 0,
      "outputs": [
        {
          "output_type": "stream",
          "text": [
            "tuned_subclass_model: 98.67% (2.67%)\n"
          ],
          "name": "stdout"
        }
      ]
    }
  ]
}