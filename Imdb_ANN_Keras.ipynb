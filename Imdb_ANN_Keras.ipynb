{
  "nbformat": 4,
  "nbformat_minor": 0,
  "metadata": {
    "colab": {
      "name": "Imdb-ANN-Keras.ipynb",
      "version": "0.3.2",
      "provenance": [],
      "collapsed_sections": [],
      "include_colab_link": true
    },
    "kernelspec": {
      "name": "python3",
      "display_name": "Python 3"
    }
  },
  "cells": [
    {
      "cell_type": "markdown",
      "metadata": {
        "id": "view-in-github",
        "colab_type": "text"
      },
      "source": [
        "<a href=\"https://colab.research.google.com/github/alihussainia/Keras-Models/blob/master/Imdb_ANN_Keras.ipynb\" target=\"_parent\"><img src=\"https://colab.research.google.com/assets/colab-badge.svg\" alt=\"Open In Colab\"/></a>"
      ]
    },
    {
      "metadata": {
        "id": "4Q9AxImgx-tO",
        "colab_type": "text"
      },
      "cell_type": "markdown",
      "source": [
        "**IMPORTS**"
      ]
    },
    {
      "metadata": {
        "id": "2miVH40Jxg9L",
        "colab_type": "code",
        "colab": {}
      },
      "cell_type": "code",
      "source": [
        "import tensorflow as tf\n",
        "!pip3 install keras\n",
        "from keras.datasets import imdb   \n",
        "import numpy as np\n",
        "from keras import models\n",
        "from keras import layers\n",
        "from keras.layers import Dropout\n",
        "from keras import losses\n",
        "from keras import metrics\n",
        "from keras import optimizers\n",
        "import matplotlib.pyplot as plt"
      ],
      "execution_count": 0,
      "outputs": []
    },
    {
      "metadata": {
        "id": "j9-KY9t_ySES",
        "colab_type": "text"
      },
      "cell_type": "markdown",
      "source": [
        "** Loading the IMDB dataset**"
      ]
    },
    {
      "metadata": {
        "id": "9El2E-OZx-aZ",
        "colab_type": "code",
        "colab": {}
      },
      "cell_type": "code",
      "source": [
        "(train_data, train_labels), (test_data, test_labels) = imdb.load_data(num_words=10000)"
      ],
      "execution_count": 0,
      "outputs": []
    },
    {
      "metadata": {
        "id": "k4NaS0BpyTdd",
        "colab_type": "text"
      },
      "cell_type": "markdown",
      "source": [
        "**Visualizing training data and labels**"
      ]
    },
    {
      "metadata": {
        "id": "CJmhaJrryJk4",
        "colab_type": "code",
        "colab": {}
      },
      "cell_type": "code",
      "source": [
        "train_data[0]"
      ],
      "execution_count": 0,
      "outputs": []
    },
    {
      "metadata": {
        "id": "5WIg1XH3yOVs",
        "colab_type": "code",
        "colab": {
          "base_uri": "https://localhost:8080/",
          "height": 35
        },
        "outputId": "351f0d26-899e-4eef-e3a2-fcb0f38516a8"
      },
      "cell_type": "code",
      "source": [
        "train_labels[0]"
      ],
      "execution_count": 4,
      "outputs": [
        {
          "output_type": "execute_result",
          "data": {
            "text/plain": [
              "1"
            ]
          },
          "metadata": {
            "tags": []
          },
          "execution_count": 4
        }
      ]
    },
    {
      "metadata": {
        "id": "hEIeV_fNyYHs",
        "colab_type": "text"
      },
      "cell_type": "markdown",
      "source": [
        "**Checking the length of the training data  (via index)**"
      ]
    },
    {
      "metadata": {
        "id": "Vg4GM0aIyPdg",
        "colab_type": "code",
        "colab": {
          "base_uri": "https://localhost:8080/",
          "height": 35
        },
        "outputId": "4f48db8b-4dab-475b-a368-9e148e14bdbe"
      },
      "cell_type": "code",
      "source": [
        " max([max(sequence) for sequence in train_data])"
      ],
      "execution_count": 5,
      "outputs": [
        {
          "output_type": "execute_result",
          "data": {
            "text/plain": [
              "9999"
            ]
          },
          "metadata": {
            "tags": []
          },
          "execution_count": 5
        }
      ]
    },
    {
      "metadata": {
        "id": "AZaML2hAyeEZ",
        "colab_type": "text"
      },
      "cell_type": "markdown",
      "source": [
        "**integer sequences back into sentences (still need clearification)**"
      ]
    },
    {
      "metadata": {
        "id": "AdF_7j_7yels",
        "colab_type": "code",
        "colab": {}
      },
      "cell_type": "code",
      "source": [
        "# word_index is a dictionary mapping words to an integer index\n",
        "word_index = imdb.get_word_index()\n",
        "# We reverse it, mapping integer indices to words\n",
        "reverse_word_index = dict([(value, key) for (key, value) in word_index.items()])\n",
        "# We decode the review; note that our indices were offset by 3\n",
        "# because 0, 1 and 2 are reserved indices for \"padding\", \"start of sequence\", and \"unknown\".\n",
        "decoded_review = ' '.join([reverse_word_index.get(i - 3, '?') for i in train_data[0]])"
      ],
      "execution_count": 0,
      "outputs": []
    },
    {
      "metadata": {
        "id": "JkMa23Gwyhs2",
        "colab_type": "text"
      },
      "cell_type": "markdown",
      "source": [
        "**integer sequences into a binary matrix (Data Vectorization)**"
      ]
    },
    {
      "metadata": {
        "id": "f0-MpbRmyhBe",
        "colab_type": "code",
        "colab": {}
      },
      "cell_type": "code",
      "source": [
        "def vectorize_sequences(sequences, dimension=10000):\n",
        " # Create an all-zero matrix of shape (len(sequences), dimension)\n",
        "  results = np.zeros((len(sequences), dimension))\n",
        "  for i, sequence in enumerate(sequences):\n",
        "    results[i, sequence] = 1. # set specific indices of results[i] to 1s\n",
        "    return results\n",
        "# Our vectorized training data\n",
        "x_train = vectorize_sequences(train_data)\n",
        "# Our vectorized test data\n",
        "x_test = vectorize_sequences(test_data)"
      ],
      "execution_count": 0,
      "outputs": []
    },
    {
      "metadata": {
        "id": "Y0VKn7W9yluE",
        "colab_type": "text"
      },
      "cell_type": "markdown",
      "source": [
        "*** encoded sample***"
      ]
    },
    {
      "metadata": {
        "id": "RZdSV9mDyl4Z",
        "colab_type": "code",
        "colab": {
          "base_uri": "https://localhost:8080/",
          "height": 35
        },
        "outputId": "2fb5cd69-0916-4501-e889-3a6ae9c940e4"
      },
      "cell_type": "code",
      "source": [
        "x_train[0]"
      ],
      "execution_count": 8,
      "outputs": [
        {
          "output_type": "execute_result",
          "data": {
            "text/plain": [
              "array([0., 1., 1., ..., 0., 0., 0.])"
            ]
          },
          "metadata": {
            "tags": []
          },
          "execution_count": 8
        }
      ]
    },
    {
      "metadata": {
        "id": "Olrf_10gypmi",
        "colab_type": "text"
      },
      "cell_type": "markdown",
      "source": [
        "** Encoding the labels(label's vectorization)**"
      ]
    },
    {
      "metadata": {
        "id": "jVCVUkN7ypv0",
        "colab_type": "code",
        "colab": {}
      },
      "cell_type": "code",
      "source": [
        "# Our vectorized labels\n",
        "y_train = np.asarray(train_labels).astype('float32')\n",
        "y_test = np.asarray(test_labels).astype('float32')"
      ],
      "execution_count": 0,
      "outputs": []
    },
    {
      "metadata": {
        "id": "dlXlngvXyr1c",
        "colab_type": "text"
      },
      "cell_type": "markdown",
      "source": [
        "**Defining the MODEL**"
      ]
    },
    {
      "metadata": {
        "id": "2ULlsCN6ysUD",
        "colab_type": "code",
        "colab": {}
      },
      "cell_type": "code",
      "source": [
        "model = models.Sequential()\n",
        "model.add(layers.Dense(16, activation='relu', input_shape=(10000,)))\n",
        "model.add(layers.Dense(16, activation='relu'))\n",
        "model.add(layers.Dense(1, activation='sigmoid'))"
      ],
      "execution_count": 0,
      "outputs": []
    },
    {
      "metadata": {
        "id": "fkHY_PvZzCE5",
        "colab_type": "text"
      },
      "cell_type": "markdown",
      "source": [
        "**defining optimizer, loss function and metrices**"
      ]
    },
    {
      "metadata": {
        "id": "5v7jk-PlzBpR",
        "colab_type": "code",
        "colab": {}
      },
      "cell_type": "code",
      "source": [
        "model.compile(optimizer=optimizers.RMSprop(lr=0.001),\n",
        " loss=losses.binary_crossentropy,\n",
        " metrics=[metrics.binary_accuracy])"
      ],
      "execution_count": 0,
      "outputs": []
    },
    {
      "metadata": {
        "id": "2QgCA5oIzM8d",
        "colab_type": "text"
      },
      "cell_type": "markdown",
      "source": [
        "**defining the validation set**"
      ]
    },
    {
      "metadata": {
        "id": "RgnXkuvVzNEV",
        "colab_type": "code",
        "colab": {}
      },
      "cell_type": "code",
      "source": [
        "x_val = x_train[:10000]\n",
        "partial_x_train = x_train[10000:]\n",
        "y_val = y_train[:10000]\n",
        "partial_y_train = y_train[10000:]"
      ],
      "execution_count": 0,
      "outputs": []
    },
    {
      "metadata": {
        "id": "LDXlk6ZezQ7B",
        "colab_type": "text"
      },
      "cell_type": "markdown",
      "source": [
        "**Training the model**"
      ]
    },
    {
      "metadata": {
        "id": "Dy2uXHzBzRBE",
        "colab_type": "code",
        "colab": {
          "base_uri": "https://localhost:8080/",
          "height": 763
        },
        "outputId": "97a07909-c53d-4449-cbca-adb838d2b48f"
      },
      "cell_type": "code",
      "source": [
        "history = model.fit(partial_x_train,\n",
        " partial_y_train,\n",
        " epochs=20,\n",
        " batch_size=512,\n",
        " validation_data=(x_val, y_val))                   "
      ],
      "execution_count": 14,
      "outputs": [
        {
          "output_type": "stream",
          "text": [
            "Train on 15000 samples, validate on 10000 samples\n",
            "Epoch 1/20\n",
            "15000/15000 [==============================] - 3s 167us/step - loss: 0.6932 - acc: 0.4982 - val_loss: 0.6932 - val_acc: 0.4947\n",
            "Epoch 2/20\n",
            "15000/15000 [==============================] - 2s 131us/step - loss: 0.6931 - acc: 0.5035 - val_loss: 0.6932 - val_acc: 0.4947\n",
            "Epoch 3/20\n",
            "15000/15000 [==============================] - 2s 131us/step - loss: 0.6931 - acc: 0.5035 - val_loss: 0.6932 - val_acc: 0.4947\n",
            "Epoch 4/20\n",
            "15000/15000 [==============================] - 2s 132us/step - loss: 0.6931 - acc: 0.5035 - val_loss: 0.6932 - val_acc: 0.4947\n",
            "Epoch 5/20\n",
            "15000/15000 [==============================] - 2s 132us/step - loss: 0.6931 - acc: 0.5035 - val_loss: 0.6932 - val_acc: 0.4947\n",
            "Epoch 6/20\n",
            "15000/15000 [==============================] - 2s 132us/step - loss: 0.6931 - acc: 0.5035 - val_loss: 0.6933 - val_acc: 0.4947\n",
            "Epoch 7/20\n",
            "15000/15000 [==============================] - 2s 131us/step - loss: 0.6931 - acc: 0.5035 - val_loss: 0.6932 - val_acc: 0.4947\n",
            "Epoch 8/20\n",
            "15000/15000 [==============================] - 2s 131us/step - loss: 0.6931 - acc: 0.5035 - val_loss: 0.6932 - val_acc: 0.4947\n",
            "Epoch 9/20\n",
            "15000/15000 [==============================] - 2s 130us/step - loss: 0.6931 - acc: 0.5035 - val_loss: 0.6933 - val_acc: 0.4947\n",
            "Epoch 10/20\n",
            "15000/15000 [==============================] - 2s 130us/step - loss: 0.6931 - acc: 0.5035 - val_loss: 0.6933 - val_acc: 0.4947\n",
            "Epoch 11/20\n",
            "15000/15000 [==============================] - 2s 136us/step - loss: 0.6931 - acc: 0.5035 - val_loss: 0.6932 - val_acc: 0.4947\n",
            "Epoch 12/20\n",
            "15000/15000 [==============================] - 2s 138us/step - loss: 0.6931 - acc: 0.5035 - val_loss: 0.6933 - val_acc: 0.4947\n",
            "Epoch 13/20\n",
            "15000/15000 [==============================] - 2s 139us/step - loss: 0.6931 - acc: 0.5035 - val_loss: 0.6933 - val_acc: 0.4947\n",
            "Epoch 14/20\n",
            "15000/15000 [==============================] - 2s 137us/step - loss: 0.6931 - acc: 0.5035 - val_loss: 0.6932 - val_acc: 0.4947\n",
            "Epoch 15/20\n",
            "15000/15000 [==============================] - 2s 137us/step - loss: 0.6931 - acc: 0.5035 - val_loss: 0.6932 - val_acc: 0.4947\n",
            "Epoch 16/20\n",
            "15000/15000 [==============================] - 2s 131us/step - loss: 0.6931 - acc: 0.5035 - val_loss: 0.6932 - val_acc: 0.4947\n",
            "Epoch 17/20\n",
            "15000/15000 [==============================] - 2s 129us/step - loss: 0.6931 - acc: 0.5035 - val_loss: 0.6932 - val_acc: 0.4947\n",
            "Epoch 18/20\n",
            "15000/15000 [==============================] - 2s 131us/step - loss: 0.6931 - acc: 0.5035 - val_loss: 0.6932 - val_acc: 0.4947\n",
            "Epoch 19/20\n",
            "15000/15000 [==============================] - 2s 131us/step - loss: 0.6931 - acc: 0.5035 - val_loss: 0.6932 - val_acc: 0.4947\n",
            "Epoch 20/20\n",
            "15000/15000 [==============================] - 2s 131us/step - loss: 0.6931 - acc: 0.5035 - val_loss: 0.6932 - val_acc: 0.4947\n"
          ],
          "name": "stdout"
        }
      ]
    },
    {
      "metadata": {
        "id": "KC5czRoYzqDM",
        "colab_type": "text"
      },
      "cell_type": "markdown",
      "source": [
        "**The *history* dictionary**"
      ]
    },
    {
      "metadata": {
        "id": "A9YC4pkQzqIV",
        "colab_type": "code",
        "colab": {
          "base_uri": "https://localhost:8080/",
          "height": 35
        },
        "outputId": "51a439dd-1d39-4ff8-db38-180f34bd935d"
      },
      "cell_type": "code",
      "source": [
        "history_dict = history.history\n",
        "history_dict.keys()\n",
        "[u'acc', u'loss', u'val_acc', u'val_loss']"
      ],
      "execution_count": 15,
      "outputs": [
        {
          "output_type": "execute_result",
          "data": {
            "text/plain": [
              "['acc', 'loss', 'val_acc', 'val_loss']"
            ]
          },
          "metadata": {
            "tags": []
          },
          "execution_count": 15
        }
      ]
    },
    {
      "metadata": {
        "id": "ew0fqaKvzyig",
        "colab_type": "text"
      },
      "cell_type": "markdown",
      "source": [
        "**Plotting the training and validation loss**"
      ]
    },
    {
      "metadata": {
        "id": "klcXHuwmzyok",
        "colab_type": "code",
        "colab": {
          "base_uri": "https://localhost:8080/",
          "height": 376
        },
        "outputId": "c1f0c233-a182-46e7-d6d3-5b7dbfd399c1"
      },
      "cell_type": "code",
      "source": [
        "acc = history.history['acc']\n",
        "val_acc = history.history['val_acc']\n",
        "loss = history.history['loss']\n",
        "val_loss = history.history['val_loss']\n",
        "epochs = range(1, len(acc) + 1)\n",
        "# \"bo\" is for \"blue dot\"\n",
        "plt.plot(epochs, loss, 'bo', label='Training loss')\n",
        "# b is for \"solid blue line\"\n",
        "plt.plot(epochs, val_loss, 'b', label='Validation loss')\n",
        "plt.title('Training and validation loss')\n",
        "plt.xlabel('Epochs')\n",
        "plt.ylabel('Loss')\n",
        "plt.legend()\n",
        "plt.show()"
      ],
      "execution_count": 16,
      "outputs": [
        {
          "output_type": "display_data",
          "data": {
            "image/png": "[encoded data removed]",
            "text/plain": [
              "<Figure size 576x396 with 1 Axes>"
            ]
          },
          "metadata": {
            "tags": []
          }
        }
      ]
    },
    {
      "metadata": {
        "id": "FfVCyfbx0CNS",
        "colab_type": "text"
      },
      "cell_type": "markdown",
      "source": [
        "**Plotting the training and validation accuracy**"
      ]
    },
    {
      "metadata": {
        "id": "G8Dpezho0CVK",
        "colab_type": "code",
        "colab": {
          "base_uri": "https://localhost:8080/",
          "height": 376
        },
        "outputId": "7d1d5a9a-7682-49c6-b504-56bfed05656b"
      },
      "cell_type": "code",
      "source": [
        "plt.clf() # clear figure\n",
        "acc_values = history_dict['acc']\n",
        "val_acc_values = history_dict['val_acc']\n",
        "plt.plot(epochs, acc, 'bo', label='Training acc')\n",
        "plt.plot(epochs, val_acc, 'b', label='Validation acc')\n",
        "plt.title('Training and validation accuracy')\n",
        "plt.xlabel('Epochs')\n",
        "plt.ylabel('Loss')\n",
        "plt.legend()\n",
        "plt.show()"
      ],
      "execution_count": 17,
      "outputs": [
        {
          "output_type": "display_data",
          "data": {
            "image/png": "[encoded data removed]",
            "text/plain": [
              "<Figure size 576x396 with 1 Axes>"
            ]
          },
          "metadata": {
            "tags": []
          }
        }
      ]
    },
    {
      "metadata": {
        "id": "NenB2Cd-7Y-r",
        "colab_type": "text"
      },
      "cell_type": "markdown",
      "source": [
        "**Re-training the model**"
      ]
    },
    {
      "metadata": {
        "id": "VKLFRQHP0Z5Y",
        "colab_type": "code",
        "colab": {
          "base_uri": "https://localhost:8080/",
          "height": 181
        },
        "outputId": "5681ab7e-efe4-4742-e8c0-be4a14baa943"
      },
      "cell_type": "code",
      "source": [
        "model = models.Sequential()\n",
        "model.add(layers.Dense(16, activation='relu', input_shape=(10000,)))\n",
        "model.add(layers.Dense(16, activation='relu'))\n",
        "model.add(layers.Dense(1, activation='sigmoid'))\n",
        "model.compile(optimizer='rmsprop',\n",
        " loss='binary_crossentropy',\n",
        " metrics=['accuracy'])\n",
        "model.fit(x_train, y_train, epochs=4, batch_size=512)\n",
        "results = model.evaluate(x_test, y_test)"
      ],
      "execution_count": 18,
      "outputs": [
        {
          "output_type": "stream",
          "text": [
            "Epoch 1/4\n",
            "25000/25000 [==============================] - 2s 97us/step - loss: 0.6932 - acc: 0.4991\n",
            "Epoch 2/4\n",
            "25000/25000 [==============================] - 2s 92us/step - loss: 0.6932 - acc: 0.4961\n",
            "Epoch 3/4\n",
            "25000/25000 [==============================] - 2s 91us/step - loss: 0.6932 - acc: 0.4997\n",
            "Epoch 4/4\n",
            "25000/25000 [==============================] - 2s 91us/step - loss: 0.6932 - acc: 0.4959\n",
            "25000/25000 [==============================] - 2s 69us/step\n"
          ],
          "name": "stdout"
        }
      ]
    },
    {
      "metadata": {
        "id": "q0O_n3h70kVl",
        "colab_type": "text"
      },
      "cell_type": "markdown",
      "source": [
        "***final results***"
      ]
    },
    {
      "metadata": {
        "id": "H252kaZv0jV4",
        "colab_type": "code",
        "colab": {
          "base_uri": "https://localhost:8080/",
          "height": 35
        },
        "outputId": "fb260622-25b3-4c6e-ac0f-66d6946b2cc7"
      },
      "cell_type": "code",
      "source": [
        " results"
      ],
      "execution_count": 19,
      "outputs": [
        {
          "output_type": "execute_result",
          "data": {
            "text/plain": [
              "[0.6931479242897034, 0.49996]"
            ]
          },
          "metadata": {
            "tags": []
          },
          "execution_count": 19
        }
      ]
    },
    {
      "metadata": {
        "id": "1ITe4J647m1v",
        "colab_type": "text"
      },
      "cell_type": "markdown",
      "source": [
        "**Generating predictions for new data**"
      ]
    },
    {
      "metadata": {
        "id": "mKSALM0j39ja",
        "colab_type": "code",
        "colab": {
          "base_uri": "https://localhost:8080/",
          "height": 145
        },
        "outputId": "894efda6-1c97-44ee-ad1e-d5a02e2e406e"
      },
      "cell_type": "code",
      "source": [
        "model.predict(x_test)"
      ],
      "execution_count": 41,
      "outputs": [
        {
          "output_type": "execute_result",
          "data": {
            "text/plain": [
              "array([[1.],\n",
              "       [1.],\n",
              "       [1.],\n",
              "       ...,\n",
              "       [1.],\n",
              "       [1.],\n",
              "       [1.]], dtype=float32)"
            ]
          },
          "metadata": {
            "tags": []
          },
          "execution_count": 41
        }
      ]
    },
    {
      "metadata": {
        "id": "jxL3L9Wa1JlG",
        "colab_type": "text"
      },
      "cell_type": "markdown",
      "source": [
        "# UPDATED MODEL"
      ]
    },
    {
      "metadata": {
        "id": "aisYo-sx8BPI",
        "colab_type": "text"
      },
      "cell_type": "markdown",
      "source": [
        "**Changes**\n",
        "\n",
        "---\n",
        "\n",
        "*  ** use of *tanh* as activation function**\n",
        "*   ** use of *softmax* as activation function in the output layer**\n",
        "*  ** use of *Dropout layer at 0.2 dropping probability* **\n",
        "*  ** use of *increased hidden layers* **\n",
        "*  ** use of *SGD* as optimizer**\n",
        "*  ** use of *tanh* as activation function**\n",
        "*  ** use of *mse* as loss function**\n",
        "\n",
        "\n",
        "\n"
      ]
    },
    {
      "metadata": {
        "id": "coxwxdqF1Vj1",
        "colab_type": "code",
        "colab": {}
      },
      "cell_type": "code",
      "source": [
        "model_new = models.Sequential()\n",
        "model_new.add(layers.Dense(16, activation='tanh', input_shape=(10000,)))\n",
        "model_new.add(layers.Dropout(0.2))\n",
        "model_new.add(layers.Dense(32, activation='tanh'))\n",
        "model_new.add(layers.Dropout(0.2))\n",
        "model_new.add(layers.Dense(128, activation='tanh'))\n",
        "model_new.add(layers.Dense(1, activation='softmax'))"
      ],
      "execution_count": 0,
      "outputs": []
    },
    {
      "metadata": {
        "id": "TdCJV1v82e6U",
        "colab_type": "text"
      },
      "cell_type": "markdown",
      "source": [
        ""
      ]
    },
    {
      "metadata": {
        "id": "LReBMsG82bi4",
        "colab_type": "code",
        "colab": {}
      },
      "cell_type": "code",
      "source": [
        "model_new.compile(optimizer=optimizers.SGD(lr=0.001),\n",
        " loss=losses.mse,\n",
        " metrics=[metrics.binary_accuracy])"
      ],
      "execution_count": 0,
      "outputs": []
    },
    {
      "metadata": {
        "id": "kj8v3-H_2pYX",
        "colab_type": "text"
      },
      "cell_type": "markdown",
      "source": [
        ""
      ]
    },
    {
      "metadata": {
        "id": "gg08WGfC2pck",
        "colab_type": "code",
        "colab": {}
      },
      "cell_type": "code",
      "source": [
        "x_val = x_train[:10000]\n",
        "partial_x_train = x_train[10000:]\n",
        "y_val = y_train[:10000]\n",
        "partial_y_train = y_train[10000:]"
      ],
      "execution_count": 0,
      "outputs": []
    },
    {
      "metadata": {
        "id": "0SE5nyt53EyV",
        "colab_type": "text"
      },
      "cell_type": "markdown",
      "source": [
        ""
      ]
    },
    {
      "metadata": {
        "id": "HTDTWS-J3E4r",
        "colab_type": "code",
        "colab": {
          "base_uri": "https://localhost:8080/",
          "height": 783
        },
        "outputId": "b90e19d6-ee7f-49e9-b066-e1cf7191603b"
      },
      "cell_type": "code",
      "source": [
        "history = model_new.fit(partial_x_train,\n",
        " partial_y_train,\n",
        " epochs=20,\n",
        " batch_size=512,\n",
        " validation_data=(x_val, y_val))  "
      ],
      "execution_count": 36,
      "outputs": [
        {
          "output_type": "stream",
          "text": [
            "Train on 15000 samples, validate on 10000 samples\n",
            "Epoch 1/20\n",
            "15000/15000 [==============================] - 3s 180us/step - loss: 0.5035 - binary_accuracy: 0.4965 - val_loss: 0.4947 - val_binary_accuracy: 0.5053\n",
            "Epoch 2/20\n",
            "15000/15000 [==============================] - 2s 132us/step - loss: 0.5035 - binary_accuracy: 0.4965 - val_loss: 0.4947 - val_binary_accuracy: 0.5053\n",
            "Epoch 3/20\n",
            "15000/15000 [==============================] - 2s 131us/step - loss: 0.5035 - binary_accuracy: 0.4965 - val_loss: 0.4947 - val_binary_accuracy: 0.5053\n",
            "Epoch 4/20\n",
            "15000/15000 [==============================] - 2s 130us/step - loss: 0.5035 - binary_accuracy: 0.4965 - val_loss: 0.4947 - val_binary_accuracy: 0.5053\n",
            "Epoch 5/20\n",
            "15000/15000 [==============================] - 2s 130us/step - loss: 0.5035 - binary_accuracy: 0.4965 - val_loss: 0.4947 - val_binary_accuracy: 0.5053\n",
            "Epoch 6/20\n",
            "15000/15000 [==============================] - 2s 130us/step - loss: 0.5035 - binary_accuracy: 0.4965 - val_loss: 0.4947 - val_binary_accuracy: 0.5053\n",
            "Epoch 7/20\n",
            "15000/15000 [==============================] - 2s 130us/step - loss: 0.5035 - binary_accuracy: 0.4965 - val_loss: 0.4947 - val_binary_accuracy: 0.5053\n",
            "Epoch 8/20\n",
            "15000/15000 [==============================] - 2s 130us/step - loss: 0.5035 - binary_accuracy: 0.4965 - val_loss: 0.4947 - val_binary_accuracy: 0.5053\n",
            "Epoch 9/20\n",
            "15000/15000 [==============================] - 2s 129us/step - loss: 0.5035 - binary_accuracy: 0.4965 - val_loss: 0.4947 - val_binary_accuracy: 0.5053\n",
            "Epoch 10/20\n",
            "15000/15000 [==============================] - 2s 129us/step - loss: 0.5035 - binary_accuracy: 0.4965 - val_loss: 0.4947 - val_binary_accuracy: 0.5053\n",
            "Epoch 11/20\n",
            "15000/15000 [==============================] - 2s 130us/step - loss: 0.5035 - binary_accuracy: 0.4965 - val_loss: 0.4947 - val_binary_accuracy: 0.5053\n",
            "Epoch 12/20\n",
            "15000/15000 [==============================] - 2s 130us/step - loss: 0.5035 - binary_accuracy: 0.4965 - val_loss: 0.4947 - val_binary_accuracy: 0.5053\n",
            "Epoch 13/20\n",
            "15000/15000 [==============================] - 2s 129us/step - loss: 0.5035 - binary_accuracy: 0.4965 - val_loss: 0.4947 - val_binary_accuracy: 0.5053\n",
            "Epoch 14/20\n",
            "15000/15000 [==============================] - 2s 129us/step - loss: 0.5035 - binary_accuracy: 0.4965 - val_loss: 0.4947 - val_binary_accuracy: 0.5053\n",
            "Epoch 15/20\n",
            "15000/15000 [==============================] - 2s 130us/step - loss: 0.5035 - binary_accuracy: 0.4965 - val_loss: 0.4947 - val_binary_accuracy: 0.5053\n",
            "Epoch 16/20\n",
            "15000/15000 [==============================] - 2s 130us/step - loss: 0.5035 - binary_accuracy: 0.4965 - val_loss: 0.4947 - val_binary_accuracy: 0.5053\n",
            "Epoch 17/20\n",
            "15000/15000 [==============================] - 2s 130us/step - loss: 0.5035 - binary_accuracy: 0.4965 - val_loss: 0.4947 - val_binary_accuracy: 0.5053\n",
            "Epoch 18/20\n",
            "15000/15000 [==============================] - 2s 130us/step - loss: 0.5035 - binary_accuracy: 0.4965 - val_loss: 0.4947 - val_binary_accuracy: 0.5053\n",
            "Epoch 19/20\n",
            "15000/15000 [==============================] - 2s 129us/step - loss: 0.5035 - binary_accuracy: 0.4965 - val_loss: 0.4947 - val_binary_accuracy: 0.5053\n",
            "Epoch 20/20\n",
            "15000/15000 [==============================] - 2s 130us/step - loss: 0.5035 - binary_accuracy: 0.4965 - val_loss: 0.4947 - val_binary_accuracy: 0.5053\n"
          ],
          "name": "stdout"
        }
      ]
    },
    {
      "metadata": {
        "id": "wr2Yh14h39cD",
        "colab_type": "text"
      },
      "cell_type": "markdown",
      "source": [
        ""
      ]
    },
    {
      "metadata": {
        "id": "W2I5T7vy7mkL",
        "colab_type": "code",
        "colab": {
          "base_uri": "https://localhost:8080/",
          "height": 145
        },
        "outputId": "5ce9047a-c518-4130-a825-23f745812f9f"
      },
      "cell_type": "code",
      "source": [
        "model_new.predict(x_test)"
      ],
      "execution_count": 42,
      "outputs": [
        {
          "output_type": "execute_result",
          "data": {
            "text/plain": [
              "array([[1.],\n",
              "       [1.],\n",
              "       [1.],\n",
              "       ...,\n",
              "       [1.],\n",
              "       [1.],\n",
              "       [1.]], dtype=float32)"
            ]
          },
          "metadata": {
            "tags": []
          },
          "execution_count": 42
        }
      ]
    }
  ]
}